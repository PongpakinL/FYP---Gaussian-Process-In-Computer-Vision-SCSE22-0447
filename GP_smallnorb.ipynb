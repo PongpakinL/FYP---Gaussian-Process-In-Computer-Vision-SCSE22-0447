{
 "cells": [
  {
   "cell_type": "code",
   "execution_count": 1,
   "id": "dd43c631",
   "metadata": {},
   "outputs": [],
   "source": [
    "import time\n",
    "import cv2\n",
    "import struct\n",
    "import datetime\n",
    "import numpy as np\n",
    "import matplotlib.pyplot as plt\n",
    "\n",
    "from scipy.spatial.distance import cdist\n",
    "from skimage.feature import hog, local_binary_pattern\n",
    "from sklearn.cluster import KMeans\n",
    "from sklearn.decomposition import PCA\n",
    "from sklearn.metrics import classification_report, accuracy_score\n",
    "from sklearn.gaussian_process import GaussianProcessClassifier\n",
    "from sklearn.gaussian_process.kernels import RBF, Matern, RationalQuadratic, ExpSineSquared, DotProduct, WhiteKernel"
   ]
  },
  {
   "cell_type": "code",
   "execution_count": 2,
   "id": "22354a31",
   "metadata": {},
   "outputs": [
    {
     "name": "stdout",
     "output_type": "stream",
     "text": [
      "Reading smallnorb-5x46789x9x18x6x2x96x96-training-info.mat\n",
      "dtype <class 'numpy.int32'>\n",
      "shape [24300, 4]\n",
      "Reading smallnorb-5x46789x9x18x6x2x96x96-training-cat.mat\n",
      "dtype <class 'numpy.int32'>\n",
      "shape [24300]\n",
      "Reading smallnorb-5x46789x9x18x6x2x96x96-training-dat.mat\n",
      "dtype <class 'numpy.uint8'>\n",
      "shape [24300, 2, 96, 96]\n",
      "Reading smallnorb-5x01235x9x18x6x2x96x96-testing-info.mat\n",
      "dtype <class 'numpy.int32'>\n",
      "shape [24300, 4]\n",
      "Reading smallnorb-5x01235x9x18x6x2x96x96-testing-cat.mat\n",
      "dtype <class 'numpy.int32'>\n",
      "shape [24300]\n",
      "Reading smallnorb-5x01235x9x18x6x2x96x96-testing-dat.mat\n",
      "dtype <class 'numpy.uint8'>\n",
      "shape [24300, 2, 96, 96]\n"
     ]
    }
   ],
   "source": [
    "DATA_FOLDER = \"smallNORB/\"\n",
    "\n",
    "PREFIXES = {\n",
    "    'train': 'smallnorb-5x46789x9x18x6x2x96x96-training-',\n",
    "    'test': 'smallnorb-5x01235x9x18x6x2x96x96-testing-',\n",
    "}\n",
    "\n",
    "FILE_TYPES = ['info', 'cat', 'dat']\n",
    "\n",
    "def read_int(f):\n",
    "    num, = struct.unpack('i', f.read(4))\n",
    "    return num\n",
    "\n",
    "map_magic_number_to_data_type = {\n",
    "    '1e3d4c55': np.uint8,\n",
    "    '1e3d4c54': np.int32,\n",
    "}\n",
    "\n",
    "loaded_data = {}\n",
    "\n",
    "for dataset, prefix in PREFIXES.items():\n",
    "    for filetype in FILE_TYPES:\n",
    "        filename = prefix + filetype + \".mat\"\n",
    "        print('Reading {}'.format(filename))\n",
    "        \n",
    "        file_loc = DATA_FOLDER + filename\n",
    "        with open( file_loc, 'rb') as f:\n",
    "            # Read the magic_num, convert it to hexadecimal, and look up the data_type\n",
    "            raw_magic_num = read_int(f)\n",
    "            magic_num = format(raw_magic_num, '02x')\n",
    "            data_type = map_magic_number_to_data_type[magic_num]\n",
    "            print('dtype', data_type)\n",
    "\n",
    "            # Read how many dimensions to expect\n",
    "            ndim = read_int(f)\n",
    "            \n",
    "            # Read at least 3 ints, or however many ndim there are\n",
    "            shape = [\n",
    "                read_int(f)\n",
    "                for i in range(max(ndim, 3))\n",
    "            ]   \n",
    "            # But in case ndims < 3, take at most n_dim elements\n",
    "            shape = shape[:ndim]\n",
    "            print('shape', shape)\n",
    "    \n",
    "            # Now load the actual data!\n",
    "            loaded_data[(dataset, filetype)] = np.fromfile(\n",
    "                f, \n",
    "                dtype=data_type, \n",
    "                count=np.prod(shape)\n",
    "            ).reshape(shape)"
   ]
  },
  {
   "cell_type": "code",
   "execution_count": 3,
   "id": "8fd23514",
   "metadata": {},
   "outputs": [
    {
     "data": {
      "text/plain": [
       "dict_keys([('train', 'info'), ('train', 'cat'), ('train', 'dat'), ('test', 'info'), ('test', 'cat'), ('test', 'dat')])"
      ]
     },
     "execution_count": 3,
     "metadata": {},
     "output_type": "execute_result"
    }
   ],
   "source": [
    "loaded_data.keys()"
   ]
  },
  {
   "cell_type": "code",
   "execution_count": 4,
   "id": "067c3fd9",
   "metadata": {},
   "outputs": [
    {
     "name": "stdout",
     "output_type": "stream",
     "text": [
      "(24300, 96, 96)\n",
      "(24300,)\n",
      "(24300, 96, 96)\n",
      "(24300,)\n"
     ]
    }
   ],
   "source": [
    "x_train = np.squeeze(loaded_data[('train', 'dat')][:,:1])\n",
    "y_train = loaded_data[('train', 'cat')]\n",
    "x_test = np.squeeze(loaded_data[('test', 'dat')][:,:1])\n",
    "y_test = loaded_data[('test', 'cat')]\n",
    "print(x_train.shape)\n",
    "print(y_train.shape)\n",
    "print(x_test.shape)\n",
    "print(y_test.shape)"
   ]
  },
  {
   "cell_type": "code",
   "execution_count": 5,
   "id": "cb6a2ca5",
   "metadata": {},
   "outputs": [],
   "source": [
    "label = ['animal', 'human', 'plane', 'truck', 'car']"
   ]
  },
  {
   "cell_type": "code",
   "execution_count": 6,
   "id": "31f3e045",
   "metadata": {},
   "outputs": [],
   "source": [
    "def showimage(image, train):\n",
    "    if train == True:\n",
    "        plt.imshow(x_train[image], cmap = 'gray')\n",
    "        plt.axis('off')\n",
    "        plt.show()\n",
    "        return (label[y_train[image]])\n",
    "    else:\n",
    "        plt.imshow(x_test[image], cmap = 'gray')\n",
    "        plt.axis('off')\n",
    "        plt.show()\n",
    "        return (label[y_test[image]])"
   ]
  },
  {
   "cell_type": "code",
   "execution_count": 13,
   "id": "d5902bff",
   "metadata": {},
   "outputs": [
    {
     "data": {
      "image/png": "[encoded data removed]",
      "text/plain": [
       "<Figure size 640x480 with 1 Axes>"
      ]
     },
     "metadata": {},
     "output_type": "display_data"
    },
    {
     "data": {
      "text/plain": [
       "'animal'"
      ]
     },
     "execution_count": 13,
     "metadata": {},
     "output_type": "execute_result"
    }
   ],
   "source": [
    "showimage(0,1)"
   ]
  },
  {
   "cell_type": "markdown",
   "id": "b8fede20",
   "metadata": {},
   "source": [
    "# Flatten"
   ]
  },
  {
   "cell_type": "code",
   "execution_count": 14,
   "id": "9658dc81",
   "metadata": {},
   "outputs": [],
   "source": [
    "def flatten(train, test):\n",
    "    \n",
    "    return train.reshape(train.shape[0], -1), test.reshape(test.shape[0], -1)"
   ]
  },
  {
   "cell_type": "markdown",
   "id": "92005206",
   "metadata": {},
   "source": [
    "# PCA"
   ]
  },
  {
   "cell_type": "code",
   "execution_count": 16,
   "id": "084e727c",
   "metadata": {},
   "outputs": [],
   "source": [
    "def pca(train, test, variance):\n",
    "    \n",
    "    train_flatten, test_flatten = flatten(train, test)\n",
    "    \n",
    "    pca = PCA(n_components = variance)\n",
    "    pca.fit(train_flatten)\n",
    "    \n",
    "    return pca.transform(train_flatten), pca.transform(test_flatten)"
   ]
  },
  {
   "cell_type": "markdown",
   "id": "ada670cf",
   "metadata": {},
   "source": [
    "# SIFT"
   ]
  },
  {
   "cell_type": "code",
   "execution_count": 18,
   "id": "c35d53f4",
   "metadata": {},
   "outputs": [],
   "source": [
    "def sift(train, test, num_cluster):\n",
    "    \n",
    "    sift = cv2.SIFT_create()\n",
    "    \n",
    "    sift_descriptors_train = []\n",
    "    for image in train:\n",
    "        kp, des = sift.detectAndCompute(image, None)\n",
    "        sift_descriptors_train.append(des)\n",
    "        \n",
    "    sift_descriptors_test = []\n",
    "    for image in test:\n",
    "        kp, des = sift.detectAndCompute(image, None)\n",
    "        sift_descriptors_test.append(des)\n",
    "        \n",
    "    sift_all_descriptors = []\n",
    "    for descriptor in sift_descriptors_train:\n",
    "        if descriptor is not None:\n",
    "            for des in descriptor:\n",
    "                sift_all_descriptors.append(des)\n",
    "                \n",
    "    sift_bow_dict = []\n",
    "    kmeans = KMeans(n_clusters = num_cluster)\n",
    "    kmeans.fit(sift_all_descriptors)\n",
    "    sift_bow_dict = kmeans.cluster_centers_\n",
    "    \n",
    "    train_sift = []\n",
    "    for image in sift_descriptors_train:\n",
    "        features = np.array([0] * num_cluster)\n",
    "        if image is not None:\n",
    "            distance = cdist(image, sift_bow_dict)\n",
    "            argmin = np.argmin(distance, axis = 1)\n",
    "            for i in argmin:\n",
    "                features[i] += 1\n",
    "        train_sift.append(features)\n",
    "\n",
    "    test_sift = []\n",
    "    for image in sift_descriptors_test:\n",
    "        features = np.array([0] * num_cluster)\n",
    "        if image is not None:\n",
    "            distance = cdist(image, sift_bow_dict)\n",
    "            argmin = np.argmin(distance, axis = 1)\n",
    "            for i in argmin:\n",
    "                features[i] += 1\n",
    "        test_sift.append(features)\n",
    "        \n",
    "    return np.array(train_sift), np.array(test_sift)"
   ]
  },
  {
   "cell_type": "markdown",
   "id": "13914e02",
   "metadata": {},
   "source": [
    "# HOG"
   ]
  },
  {
   "cell_type": "code",
   "execution_count": 20,
   "id": "da4d422e",
   "metadata": {},
   "outputs": [],
   "source": [
    "def c_hog(train, test, orientations, ppc, cpb):\n",
    "    \n",
    "    train_hog = []\n",
    "    test_hog = []\n",
    "\n",
    "    for image in train:\n",
    "        fd, hog_image = hog(image, orientations=orientations, pixels_per_cell=(ppc,ppc), cells_per_block=(cpb, cpb), visualize=True)\n",
    "        train_hog.append(fd)\n",
    "\n",
    "    for image in test:\n",
    "        fd, hog_image = hog(image, orientations=orientations, pixels_per_cell=(ppc,ppc), cells_per_block=(cpb, cpb), visualize=True)\n",
    "        test_hog.append(fd)\n",
    "        \n",
    "    return np.array(train_hog), np.array(test_hog)"
   ]
  },
  {
   "cell_type": "markdown",
   "id": "9c7e0d4e",
   "metadata": {},
   "source": [
    "# LBP"
   ]
  },
  {
   "cell_type": "code",
   "execution_count": 22,
   "id": "fa01c8e5",
   "metadata": {},
   "outputs": [],
   "source": [
    "def lbp(train, test, radius, flat):\n",
    "\n",
    "    train_lbp = []\n",
    "    test_lbp = []\n",
    "\n",
    "    for image in train:\n",
    "        lbp = local_binary_pattern(image, 8 * radius, radius, 'uniform')\n",
    "        train_lbp.append(lbp)\n",
    "\n",
    "    for image in test:\n",
    "        lbp = local_binary_pattern(image, 8 * radius, radius, 'uniform')\n",
    "        test_lbp.append(lbp)\n",
    "        \n",
    "    train_lbp = np.array(train_lbp)\n",
    "    test_lbp = np.array(test_lbp)\n",
    "        \n",
    "    if flat == True:\n",
    "        return flatten(train_lbp.round().astype(np.uint8), test_lbp.round().astype(np.uint8))\n",
    "    else:\n",
    "        return train_lbp.round().astype(np.uint8), test_lbp.round().astype(np.uint8)"
   ]
  },
  {
   "cell_type": "markdown",
   "id": "6cdd98a1",
   "metadata": {},
   "source": [
    "# SIFT + LBP"
   ]
  },
  {
   "cell_type": "code",
   "execution_count": 25,
   "id": "a541c810",
   "metadata": {},
   "outputs": [],
   "source": [
    "def siftlbp(train, test, num_cluster, radius):\n",
    "    \n",
    "    train_siftlbp, test_siftlbp = lbp(train, test, radius, 0)\n",
    "    \n",
    "    return sift(train_siftlbp, test_siftlbp, num_cluster)"
   ]
  },
  {
   "cell_type": "markdown",
   "id": "effafc6e",
   "metadata": {},
   "source": [
    "# HOG + LBP"
   ]
  },
  {
   "cell_type": "code",
   "execution_count": 27,
   "id": "6f47fc30",
   "metadata": {},
   "outputs": [],
   "source": [
    "def hoglbp(train, test, orientations, ppc, cpb, radius):\n",
    "    \n",
    "    train_hoglbp, test_hoglbp = lbp(train, test, radius, 0)\n",
    "    \n",
    "    return c_hog(train_hoglbp, test_hoglbp, orientations, ppc, cpb)"
   ]
  },
  {
   "cell_type": "markdown",
   "id": "86cd6b6d",
   "metadata": {},
   "source": [
    "# Gaussian Process"
   ]
  },
  {
   "cell_type": "code",
   "execution_count": null,
   "id": "a46972a1",
   "metadata": {},
   "outputs": [],
   "source": [
    "train_gpc, test_gpc = siftlbp(x_train, x_test, 25, 3)"
   ]
  },
  {
   "cell_type": "code",
   "execution_count": null,
   "id": "31ff7467",
   "metadata": {},
   "outputs": [],
   "source": [
    "print(train_gpc.shape)\n",
    "print(test_gpc.shape)"
   ]
  },
  {
   "cell_type": "code",
   "execution_count": null,
   "id": "e241fdca",
   "metadata": {},
   "outputs": [],
   "source": [
    "N = 2500\n",
    "x = train_gpc[:N]\n",
    "y = y_train[:N]"
   ]
  },
  {
   "cell_type": "code",
   "execution_count": null,
   "id": "89e45a5d",
   "metadata": {},
   "outputs": [],
   "source": [
    "start = time.time()\n",
    "kernel = RationalQuadratic()\n",
    "gpc = GaussianProcessClassifier(kernel=kernel)\n",
    "gpc.fit(x, y)\n",
    "end = time.time()\n",
    "print(datetime.timedelta(seconds = int(end-start)))"
   ]
  },
  {
   "cell_type": "code",
   "execution_count": null,
   "id": "e2d0e5d2",
   "metadata": {},
   "outputs": [],
   "source": [
    "y_pred = gpc.predict(test_gpc)\n",
    "print(classification_report(y_test, y_pred))\n",
    "print(accuracy_score(y_test, y_pred))"
   ]
  }
 ],
 "metadata": {
  "kernelspec": {
   "display_name": "Python 3 (ipykernel)",
   "language": "python",
   "name": "python3"
  },
  "language_info": {
   "codemirror_mode": {
    "name": "ipython",
    "version": 3
   },
   "file_extension": ".py",
   "mimetype": "text/x-python",
   "name": "python",
   "nbconvert_exporter": "python",
   "pygments_lexer": "ipython3",
   "version": "3.9.15"
  }
 },
 "nbformat": 4,
 "nbformat_minor": 5
}
