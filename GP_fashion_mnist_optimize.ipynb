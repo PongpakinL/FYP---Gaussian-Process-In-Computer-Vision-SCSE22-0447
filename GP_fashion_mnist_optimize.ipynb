{
 "cells": [
  {
   "cell_type": "code",
   "execution_count": 1,
   "id": "abb51b9b",
   "metadata": {},
   "outputs": [],
   "source": [
    "import time\n",
    "import cv2\n",
    "import datetime\n",
    "import numpy as np\n",
    "import matplotlib.pyplot as plt\n",
    "\n",
    "from keras.datasets import fashion_mnist\n",
    "from scipy.spatial.distance import cdist\n",
    "from skimage.feature import hog, local_binary_pattern\n",
    "from sklearn.cluster import KMeans\n",
    "from sklearn.decomposition import PCA\n",
    "from sklearn.metrics import classification_report, accuracy_score\n",
    "from sklearn.gaussian_process import GaussianProcessClassifier\n",
    "from sklearn.gaussian_process.kernels import RBF, Matern, RationalQuadratic, ExpSineSquared, DotProduct, WhiteKernel"
   ]
  },
  {
   "cell_type": "code",
   "execution_count": 2,
   "id": "68576cee",
   "metadata": {},
   "outputs": [
    {
     "name": "stdout",
     "output_type": "stream",
     "text": [
      "(60000, 28, 28)\n",
      "(60000,)\n",
      "(10000, 28, 28)\n",
      "(10000,)\n"
     ]
    }
   ],
   "source": [
    "(x_train, y_train), (x_test, y_test) = fashion_mnist.load_data()\n",
    "print(x_train.shape)\n",
    "print(y_train.shape)\n",
    "print(x_test.shape)\n",
    "print(y_test.shape)"
   ]
  },
  {
   "cell_type": "code",
   "execution_count": 3,
   "id": "85a59451",
   "metadata": {},
   "outputs": [],
   "source": [
    "label = ['T-shirt/top', 'Trouser', 'Pullover', 'Dress', 'Coat', 'Sandal', 'Shirt', 'Sneaker', 'Bag', 'Ankle boot']"
   ]
  },
  {
   "cell_type": "code",
   "execution_count": 4,
   "id": "6756bf07",
   "metadata": {},
   "outputs": [],
   "source": [
    "def showimage(image, train):\n",
    "    if train == True:\n",
    "        plt.imshow(x_train[image], cmap = 'gray')\n",
    "        plt.axis('off')\n",
    "        plt.show()\n",
    "        return (label[y_train[image]])\n",
    "    else:\n",
    "        plt.imshow(x_test[image], cmap = 'gray')\n",
    "        plt.axis('off')\n",
    "        plt.show()\n",
    "        return (label[y_test[image]])"
   ]
  },
  {
   "cell_type": "code",
   "execution_count": 5,
   "id": "f2fcb9f1",
   "metadata": {},
   "outputs": [
    {
     "data": {
      "image/png": "[encoded data removed]",
      "text/plain": [
       "<Figure size 640x480 with 1 Axes>"
      ]
     },
     "metadata": {},
     "output_type": "display_data"
    },
    {
     "data": {
      "text/plain": [
       "'Ankle boot'"
      ]
     },
     "execution_count": 5,
     "metadata": {},
     "output_type": "execute_result"
    }
   ],
   "source": [
    "showimage(0,1)"
   ]
  },
  {
   "cell_type": "markdown",
   "id": "2ba2d362",
   "metadata": {},
   "source": [
    "# Flatten"
   ]
  },
  {
   "cell_type": "code",
   "execution_count": 6,
   "id": "c61d8270",
   "metadata": {},
   "outputs": [],
   "source": [
    "def flatten(train, test):\n",
    "    \n",
    "    return train.reshape(train.shape[0], -1), test.reshape(test.shape[0], -1)"
   ]
  },
  {
   "cell_type": "markdown",
   "id": "495b3484",
   "metadata": {},
   "source": [
    "# PCA"
   ]
  },
  {
   "cell_type": "code",
   "execution_count": 7,
   "id": "c2507e9f",
   "metadata": {},
   "outputs": [],
   "source": [
    "def pca(train, test, variance):\n",
    "    \n",
    "    train_flatten, test_flatten = flatten(train, test)\n",
    "    \n",
    "    pca = PCA(n_components = variance)\n",
    "    pca.fit(train_flatten)\n",
    "    \n",
    "    return pca.transform(train_flatten), pca.transform(test_flatten)"
   ]
  },
  {
   "cell_type": "markdown",
   "id": "967d6a04",
   "metadata": {},
   "source": [
    "# SIFT"
   ]
  },
  {
   "cell_type": "code",
   "execution_count": 8,
   "id": "f9549944",
   "metadata": {},
   "outputs": [],
   "source": [
    "def sift(train, test, num_cluster):\n",
    "    \n",
    "    sift = cv2.SIFT_create()\n",
    "    \n",
    "    sift_descriptors_train = []\n",
    "    for image in train:\n",
    "        kp, des = sift.detectAndCompute(image, None)\n",
    "        sift_descriptors_train.append(des)\n",
    "        \n",
    "    sift_descriptors_test = []\n",
    "    for image in test:\n",
    "        kp, des = sift.detectAndCompute(image, None)\n",
    "        sift_descriptors_test.append(des)\n",
    "        \n",
    "    sift_all_descriptors = []\n",
    "    for descriptor in sift_descriptors_train:\n",
    "        if descriptor is not None:\n",
    "            for des in descriptor:\n",
    "                sift_all_descriptors.append(des)\n",
    "                \n",
    "    sift_bow_dict = []\n",
    "    kmeans = KMeans(n_clusters = num_cluster)\n",
    "    kmeans.fit(sift_all_descriptors)\n",
    "    sift_bow_dict = kmeans.cluster_centers_\n",
    "    \n",
    "    train_sift = []\n",
    "    for image in sift_descriptors_train:\n",
    "        features = np.array([0] * num_cluster)\n",
    "        if image is not None:\n",
    "            distance = cdist(image, sift_bow_dict)\n",
    "            argmin = np.argmin(distance, axis = 1)\n",
    "            for i in argmin:\n",
    "                features[i] += 1\n",
    "        train_sift.append(features)\n",
    "\n",
    "    test_sift = []\n",
    "    for image in sift_descriptors_test:\n",
    "        features = np.array([0] * num_cluster)\n",
    "        if image is not None:\n",
    "            distance = cdist(image, sift_bow_dict)\n",
    "            argmin = np.argmin(distance, axis = 1)\n",
    "            for i in argmin:\n",
    "                features[i] += 1\n",
    "        test_sift.append(features)\n",
    "        \n",
    "    return np.array(train_sift), np.array(test_sift)"
   ]
  },
  {
   "cell_type": "markdown",
   "id": "a52b4e6a",
   "metadata": {},
   "source": [
    "# HOG"
   ]
  },
  {
   "cell_type": "code",
   "execution_count": 9,
   "id": "b5fa349f",
   "metadata": {},
   "outputs": [],
   "source": [
    "def c_hog(train, test, orientations, ppc, cpb):\n",
    "    \n",
    "    train_hog = []\n",
    "    test_hog = []\n",
    "\n",
    "    for image in train:\n",
    "        fd, hog_image = hog(image, orientations=orientations, pixels_per_cell=(ppc,ppc), cells_per_block=(cpb, cpb), visualize=True)\n",
    "        train_hog.append(fd)\n",
    "\n",
    "    for image in test:\n",
    "        fd, hog_image = hog(image, orientations=orientations, pixels_per_cell=(ppc,ppc), cells_per_block=(cpb, cpb), visualize=True)\n",
    "        test_hog.append(fd)\n",
    "        \n",
    "    return np.array(train_hog), np.array(test_hog)"
   ]
  },
  {
   "cell_type": "markdown",
   "id": "36482ae2",
   "metadata": {},
   "source": [
    "# LBP"
   ]
  },
  {
   "cell_type": "code",
   "execution_count": 10,
   "id": "2215f987",
   "metadata": {},
   "outputs": [],
   "source": [
    "def lbp(train, test, radius, flat):\n",
    "\n",
    "    train_lbp = []\n",
    "    test_lbp = []\n",
    "\n",
    "    for image in train:\n",
    "        lbp = local_binary_pattern(image, 8 * radius, radius, 'uniform')\n",
    "        train_lbp.append(lbp)\n",
    "\n",
    "    for image in test:\n",
    "        lbp = local_binary_pattern(image, 8 * radius, radius, 'uniform')\n",
    "        test_lbp.append(lbp)\n",
    "        \n",
    "    train_lbp = np.array(train_lbp)\n",
    "    test_lbp = np.array(test_lbp)\n",
    "        \n",
    "    if flat == True:\n",
    "        return flatten(train_lbp.round().astype(np.uint8), test_lbp.round().astype(np.uint8))\n",
    "    else:\n",
    "        return train_lbp.round().astype(np.uint8), test_lbp.round().astype(np.uint8)"
   ]
  },
  {
   "cell_type": "markdown",
   "id": "51990ffb",
   "metadata": {},
   "source": [
    "# SIFT + LBP"
   ]
  },
  {
   "cell_type": "code",
   "execution_count": 11,
   "id": "a65ccd37",
   "metadata": {},
   "outputs": [],
   "source": [
    "def siftlbp(train, test, num_cluster, radius):\n",
    "    \n",
    "    train_siftlbp, test_siftlbp = lbp(train, test, radius, 0)\n",
    "    \n",
    "    return sift(train_siftlbp, test_siftlbp, num_cluster)"
   ]
  },
  {
   "cell_type": "markdown",
   "id": "4190f6d6",
   "metadata": {},
   "source": [
    "# HOG + LBP"
   ]
  },
  {
   "cell_type": "code",
   "execution_count": 12,
   "id": "a1e3f282",
   "metadata": {},
   "outputs": [],
   "source": [
    "def hoglbp(train, test, orientations, ppc, cpb, radius):\n",
    "    \n",
    "    train_hoglbp, test_hoglbp = lbp(train, test, radius, 0)\n",
    "    \n",
    "    return c_hog(train_hoglbp, test_hoglbp, orientations, ppc, cpb)"
   ]
  },
  {
   "cell_type": "markdown",
   "id": "b2c2d61b",
   "metadata": {},
   "source": [
    "# Optimize"
   ]
  },
  {
   "cell_type": "markdown",
   "id": "3cf8b5a7",
   "metadata": {},
   "source": [
    "### PCA"
   ]
  },
  {
   "cell_type": "code",
   "execution_count": null,
   "id": "210a87f6",
   "metadata": {},
   "outputs": [],
   "source": [
    "var = [0.5, 0.6, 0.7, 0.8, 0.9, 0.99]\n",
    "for i in var:\n",
    "    for j in range(0,5):\n",
    "        start = time.time()\n",
    "        train_x, valid_x = pca(x_train[j*12000:j*12000+2000], x_train[j*12000+2000:(j+1)*12000], i)\n",
    "        \n",
    "        train_y = y_train[j*12000:j*12000+2000]\n",
    "        valid_y = y_train[j*12000+2000:(j+1)*12000]\n",
    "\n",
    "        kernel = RationalQuadratic()\n",
    "        gpc = GaussianProcessClassifier(kernel=kernel)\n",
    "        gpc.fit(train_x, train_y)\n",
    "\n",
    "        pred_y = gpc.predict(valid_x)\n",
    "        end = time.time()\n",
    "        print(datetime.timedelta(seconds = int(end-start)))\n",
    "        print([i, j+1])\n",
    "        print(accuracy_score(valid_y, pred_y))"
   ]
  },
  {
   "cell_type": "code",
   "execution_count": null,
   "id": "f0c6b3dc",
   "metadata": {},
   "outputs": [],
   "source": [
    "# 0.5 [0.6244,0.62,0.6399,0.6386,0.6204]\n",
    "# 0.6 [0.7028,0.6937,0.7103,0.711,0.6951]\n",
    "# 0.7 [0.7337,0.7455,0.7388,0.741,0.739]\n",
    "# 0.8 [0.7857,0.7771,0.7804,0.7818,0.7709]\n",
    "# 0.9 [0.7709,0.7901,0.7936,0.7903,0.7815]\n",
    "# 0.99 [0.7938,0.7889,0.791,0.7906,0.7781]"
   ]
  },
  {
   "cell_type": "markdown",
   "id": "e85338d9",
   "metadata": {},
   "source": [
    "### SIFT"
   ]
  },
  {
   "cell_type": "code",
   "execution_count": null,
   "id": "9ddb8d69",
   "metadata": {},
   "outputs": [],
   "source": [
    "sift = cv2.SIFT_create()\n",
    "\n",
    "sift_descriptors_train = []\n",
    "for image in x_train:\n",
    "    kp, des = sift.detectAndCompute(image, None)\n",
    "    sift_descriptors_train.append(des)\n",
    "\n",
    "sift_all_descriptors = []\n",
    "for descriptor in sift_descriptors_train:\n",
    "    if descriptor is not None:\n",
    "        for des in descriptor:\n",
    "            sift_all_descriptors.append(des)"
   ]
  },
  {
   "cell_type": "code",
   "execution_count": null,
   "id": "0a5729de",
   "metadata": {},
   "outputs": [],
   "source": [
    "num = [i for i in range(10,201,10)]\n",
    "for num_cluster in num:\n",
    "    \n",
    "    start = time.time()\n",
    "    sift_bow_dict = []\n",
    "    kmeans = KMeans(n_clusters = num_cluster)\n",
    "    kmeans.fit(sift_all_descriptors)\n",
    "    sift_bow_dict = kmeans.cluster_centers_\n",
    "\n",
    "    train_sift = []\n",
    "    for image in sift_descriptors_train:\n",
    "        features = np.array([0] * num_cluster)\n",
    "        if image is not None:\n",
    "            distance = cdist(image, sift_bow_dict)\n",
    "            argmin = np.argmin(distance, axis = 1)\n",
    "            for i in argmin:\n",
    "                features[i] += 1\n",
    "        train_sift.append(features)\n",
    "    \n",
    "    for j in range(0,5):\n",
    "    \n",
    "        train_x = train_sift[j*12000:j*12000+2000]\n",
    "        valid_x = train_sift[j*12000+2000:(j+1)*12000]\n",
    "        train_y = y_train[j*12000:j*12000+2000]\n",
    "        valid_y = y_train[j*12000+2000:(j+1)*12000]\n",
    "\n",
    "        kernel = RationalQuadratic()\n",
    "        gpc = GaussianProcessClassifier(kernel=kernel)\n",
    "        gpc.fit(train_x, train_y)\n",
    "\n",
    "        pred_y = gpc.predict(valid_x)\n",
    "        end = time.time()\n",
    "        print(datetime.timedelta(seconds = int(end-start)))\n",
    "        print([num_cluster, j+1])\n",
    "        print(accuracy_score(valid_y, pred_y))"
   ]
  },
  {
   "cell_type": "code",
   "execution_count": null,
   "id": "01310c9a",
   "metadata": {},
   "outputs": [],
   "source": [
    "# 10 [0.356,0.352,0.3572,0.3563,0.356]\n",
    "# 20 [0.4336,0.4319,0.4389,0.4382,0.421]\n",
    "# 30 [0.4692,0.4692,0.4661,0.4789,0.4547]\n",
    "# 40 [0.4896,0.48,0.4791,0.4827,0.4702]\n",
    "# 50 [0.4928,0.4922,0.495,0.5024,0.4895]\n",
    "# 60 [0.5052,0.4921,0.5013,0.5009,0.4898]\n",
    "# 70 [0.5149,0.5193,0.5144,0.5139,0.5108]\n",
    "# 80 [0.5232,0.5188,0.5174,0.5205,0.5154]\n",
    "# 90 [0.5307,0.5309,0.5276,0.5352,0.5232]\n",
    "# 100 [0.5385,0.5364,0.534,0.5376,0.528]\n",
    "# 110 [0.5386,0.538,0.5363,0.5478,0.5332]\n",
    "# 120 [0.5442,0.5437,0.5402,0.549,0.5333]\n",
    "# 130 [0.5445,0.5462,0.536,0.5482,0.5334]\n",
    "# 140 [0.5503,0.5543,0.5485,0.559,0.5385]\n",
    "# 150 [0.5503,0.553,0.5497,0.5551,0.5442]\n",
    "# 160 [0.5515,0.5545,0.529,0.5634,0.5469]\n",
    "# 170 [0.5535,0.5545,0.5302,0.5629,0.5426]\n",
    "# 180 [0.5499,0.5543,0.5351,0.5623,0.5447]\n",
    "# 190 [0.552,0.5585,0.559,0.565,0.5534]\n",
    "# 200 [0.5505,0.5597,0.5308,0.5578,0.5455]"
   ]
  },
  {
   "cell_type": "markdown",
   "id": "16edc477",
   "metadata": {},
   "source": [
    "### HOG"
   ]
  },
  {
   "cell_type": "code",
   "execution_count": null,
   "id": "df3dac68",
   "metadata": {},
   "outputs": [],
   "source": [
    "ori = [8, 9]\n",
    "ppc = [4, 8]\n",
    "cpb = [1, 2, 3]\n",
    "for i in ori:\n",
    "    for j in ppc:\n",
    "        for k in cpb:\n",
    "            for l in range(0,5):\n",
    "                \n",
    "                start = time.time()\n",
    "                train_x, valid_x = c_hog(x_train[l*12000:l*12000+2000], x_train[l*12000+2000:(l+1)*12000], i, j, k)\n",
    "\n",
    "                train_y = y_train[l*12000:l*12000+2000]\n",
    "                valid_y = y_train[l*12000+2000:(l+1)*12000]\n",
    "\n",
    "                kernel = RationalQuadratic()\n",
    "                gpc = GaussianProcessClassifier(kernel=kernel)\n",
    "                gpc.fit(train_x, train_y)\n",
    "\n",
    "                pred_y = gpc.predict(valid_x)\n",
    "                end = time.time()\n",
    "                print(datetime.timedelta(seconds = int(end-start)))\n",
    "                print([i, j, k, l+1])\n",
    "                print(accuracy_score(valid_y, pred_y))"
   ]
  },
  {
   "cell_type": "code",
   "execution_count": null,
   "id": "434c8236",
   "metadata": {},
   "outputs": [],
   "source": [
    "# 841 [0.8028,0.8002,0.8081,0.8116,0.7905]\n",
    "# 842 [0.8222,0.8206,0.825,0.8309,0.8196]\n",
    "# 843 [0.8256,0.8217,0.8231,0.8307,0.8203]\n",
    "# 881 [0.7437,0.7447,0.7432,0.7466,0.7401]\n",
    "# 882 [0.7794,0.7739,0.7712,0.7742,0.7667]\n",
    "# 883 [0.7872,0.7817,0.7857,0.7896,0.778]\n",
    "# 941 [0.801,0.7972,0.8124,0.8148,0.7941]\n",
    "# 942 [0.827,0.8193,0.8275,0.8298,0.802]\n",
    "# 943 [0.8273,0.8219,0.8248,0.8286,0.8197]\n",
    "# 981 [0.7467,0.7463,0.7495,0.7488,0.7435]\n",
    "# 982 [0.7852,0.777,0.777,0.7767,0.7759]\n",
    "# 983 [0.7898,0.7853,0.7881,0.7907,0.7822]"
   ]
  },
  {
   "cell_type": "markdown",
   "id": "e723f6d2",
   "metadata": {},
   "source": [
    "### LBP"
   ]
  },
  {
   "cell_type": "code",
   "execution_count": 14,
   "id": "cfb218ed",
   "metadata": {
    "scrolled": true
   },
   "outputs": [
    {
     "name": "stderr",
     "output_type": "stream",
     "text": [
      "C:\\Users\\pongp\\anaconda3\\lib\\site-packages\\sklearn\\gaussian_process\\kernels.py:430: ConvergenceWarning: The optimal value found for dimension 0 of parameter alpha is close to the specified upper bound 100000.0. Increasing the bound and calling fit again may find a better value.\n",
      "  warnings.warn(\n",
      "C:\\Users\\pongp\\anaconda3\\lib\\site-packages\\sklearn\\gaussian_process\\_gpc.py:472: ConvergenceWarning: lbfgs failed to converge (status=2):\n",
      "ABNORMAL_TERMINATION_IN_LNSRCH.\n",
      "\n",
      "Increase the number of iterations (max_iter) or scale the data as shown in:\n",
      "    https://scikit-learn.org/stable/modules/preprocessing.html\n",
      "  _check_optimize_result(\"lbfgs\", opt_res)\n"
     ]
    },
    {
     "name": "stdout",
     "output_type": "stream",
     "text": [
      "0:19:36\n",
      "[8, 1]\n",
      "0.7204\n"
     ]
    },
    {
     "name": "stderr",
     "output_type": "stream",
     "text": [
      "C:\\Users\\pongp\\anaconda3\\lib\\site-packages\\sklearn\\gaussian_process\\kernels.py:430: ConvergenceWarning: The optimal value found for dimension 0 of parameter alpha is close to the specified upper bound 100000.0. Increasing the bound and calling fit again may find a better value.\n",
      "  warnings.warn(\n"
     ]
    },
    {
     "name": "stdout",
     "output_type": "stream",
     "text": [
      "0:25:48\n",
      "[8, 2]\n",
      "0.7205\n"
     ]
    },
    {
     "name": "stderr",
     "output_type": "stream",
     "text": [
      "C:\\Users\\pongp\\anaconda3\\lib\\site-packages\\sklearn\\gaussian_process\\kernels.py:430: ConvergenceWarning: The optimal value found for dimension 0 of parameter alpha is close to the specified upper bound 100000.0. Increasing the bound and calling fit again may find a better value.\n",
      "  warnings.warn(\n"
     ]
    },
    {
     "name": "stdout",
     "output_type": "stream",
     "text": [
      "0:25:57\n",
      "[8, 3]\n",
      "0.7198\n"
     ]
    },
    {
     "name": "stderr",
     "output_type": "stream",
     "text": [
      "C:\\Users\\pongp\\anaconda3\\lib\\site-packages\\sklearn\\gaussian_process\\kernels.py:430: ConvergenceWarning: The optimal value found for dimension 0 of parameter alpha is close to the specified upper bound 100000.0. Increasing the bound and calling fit again may find a better value.\n",
      "  warnings.warn(\n"
     ]
    },
    {
     "name": "stdout",
     "output_type": "stream",
     "text": [
      "0:29:49\n",
      "[8, 4]\n",
      "0.7237\n"
     ]
    },
    {
     "name": "stderr",
     "output_type": "stream",
     "text": [
      "C:\\Users\\pongp\\anaconda3\\lib\\site-packages\\sklearn\\gaussian_process\\kernels.py:430: ConvergenceWarning: The optimal value found for dimension 0 of parameter alpha is close to the specified upper bound 100000.0. Increasing the bound and calling fit again may find a better value.\n",
      "  warnings.warn(\n"
     ]
    },
    {
     "name": "stdout",
     "output_type": "stream",
     "text": [
      "0:23:46\n",
      "[8, 5]\n",
      "0.717\n"
     ]
    },
    {
     "name": "stderr",
     "output_type": "stream",
     "text": [
      "C:\\Users\\pongp\\anaconda3\\lib\\site-packages\\sklearn\\gaussian_process\\kernels.py:430: ConvergenceWarning: The optimal value found for dimension 0 of parameter alpha is close to the specified upper bound 100000.0. Increasing the bound and calling fit again may find a better value.\n",
      "  warnings.warn(\n"
     ]
    },
    {
     "name": "stdout",
     "output_type": "stream",
     "text": [
      "0:22:50\n",
      "[9, 1]\n",
      "0.7106\n"
     ]
    },
    {
     "name": "stderr",
     "output_type": "stream",
     "text": [
      "C:\\Users\\pongp\\anaconda3\\lib\\site-packages\\sklearn\\gaussian_process\\kernels.py:430: ConvergenceWarning: The optimal value found for dimension 0 of parameter alpha is close to the specified upper bound 100000.0. Increasing the bound and calling fit again may find a better value.\n",
      "  warnings.warn(\n"
     ]
    },
    {
     "name": "stdout",
     "output_type": "stream",
     "text": [
      "0:24:11\n",
      "[9, 2]\n",
      "0.7143\n"
     ]
    },
    {
     "name": "stderr",
     "output_type": "stream",
     "text": [
      "C:\\Users\\pongp\\anaconda3\\lib\\site-packages\\sklearn\\gaussian_process\\kernels.py:430: ConvergenceWarning: The optimal value found for dimension 0 of parameter alpha is close to the specified upper bound 100000.0. Increasing the bound and calling fit again may find a better value.\n",
      "  warnings.warn(\n"
     ]
    },
    {
     "name": "stdout",
     "output_type": "stream",
     "text": [
      "0:22:34\n",
      "[9, 3]\n",
      "0.7095\n"
     ]
    },
    {
     "name": "stderr",
     "output_type": "stream",
     "text": [
      "C:\\Users\\pongp\\anaconda3\\lib\\site-packages\\sklearn\\gaussian_process\\kernels.py:430: ConvergenceWarning: The optimal value found for dimension 0 of parameter alpha is close to the specified upper bound 100000.0. Increasing the bound and calling fit again may find a better value.\n",
      "  warnings.warn(\n"
     ]
    },
    {
     "name": "stdout",
     "output_type": "stream",
     "text": [
      "0:23:27\n",
      "[9, 4]\n",
      "0.718\n"
     ]
    },
    {
     "name": "stderr",
     "output_type": "stream",
     "text": [
      "C:\\Users\\pongp\\anaconda3\\lib\\site-packages\\sklearn\\gaussian_process\\kernels.py:430: ConvergenceWarning: The optimal value found for dimension 0 of parameter alpha is close to the specified upper bound 100000.0. Increasing the bound and calling fit again may find a better value.\n",
      "  warnings.warn(\n"
     ]
    },
    {
     "name": "stdout",
     "output_type": "stream",
     "text": [
      "0:23:05\n",
      "[9, 5]\n",
      "0.7015\n"
     ]
    },
    {
     "name": "stderr",
     "output_type": "stream",
     "text": [
      "C:\\Users\\pongp\\anaconda3\\lib\\site-packages\\sklearn\\gaussian_process\\kernels.py:430: ConvergenceWarning: The optimal value found for dimension 0 of parameter alpha is close to the specified upper bound 100000.0. Increasing the bound and calling fit again may find a better value.\n",
      "  warnings.warn(\n"
     ]
    },
    {
     "name": "stdout",
     "output_type": "stream",
     "text": [
      "0:22:08\n",
      "[10, 1]\n",
      "0.7043\n"
     ]
    },
    {
     "name": "stderr",
     "output_type": "stream",
     "text": [
      "C:\\Users\\pongp\\anaconda3\\lib\\site-packages\\sklearn\\gaussian_process\\kernels.py:430: ConvergenceWarning: The optimal value found for dimension 0 of parameter alpha is close to the specified upper bound 100000.0. Increasing the bound and calling fit again may find a better value.\n",
      "  warnings.warn(\n"
     ]
    },
    {
     "name": "stdout",
     "output_type": "stream",
     "text": [
      "0:20:59\n",
      "[10, 2]\n",
      "0.7093\n"
     ]
    },
    {
     "name": "stderr",
     "output_type": "stream",
     "text": [
      "C:\\Users\\pongp\\anaconda3\\lib\\site-packages\\sklearn\\gaussian_process\\kernels.py:430: ConvergenceWarning: The optimal value found for dimension 0 of parameter alpha is close to the specified upper bound 100000.0. Increasing the bound and calling fit again may find a better value.\n",
      "  warnings.warn(\n"
     ]
    },
    {
     "name": "stdout",
     "output_type": "stream",
     "text": [
      "0:22:06\n",
      "[10, 3]\n",
      "0.7082\n"
     ]
    },
    {
     "name": "stderr",
     "output_type": "stream",
     "text": [
      "C:\\Users\\pongp\\anaconda3\\lib\\site-packages\\sklearn\\gaussian_process\\kernels.py:430: ConvergenceWarning: The optimal value found for dimension 0 of parameter alpha is close to the specified upper bound 100000.0. Increasing the bound and calling fit again may find a better value.\n",
      "  warnings.warn(\n"
     ]
    },
    {
     "name": "stdout",
     "output_type": "stream",
     "text": [
      "0:21:08\n",
      "[10, 4]\n",
      "0.7145\n"
     ]
    },
    {
     "name": "stderr",
     "output_type": "stream",
     "text": [
      "C:\\Users\\pongp\\anaconda3\\lib\\site-packages\\sklearn\\gaussian_process\\kernels.py:430: ConvergenceWarning: The optimal value found for dimension 0 of parameter alpha is close to the specified upper bound 100000.0. Increasing the bound and calling fit again may find a better value.\n",
      "  warnings.warn(\n"
     ]
    },
    {
     "name": "stdout",
     "output_type": "stream",
     "text": [
      "0:19:18\n",
      "[10, 5]\n",
      "0.7005\n"
     ]
    }
   ],
   "source": [
    "rad = [i for i in range(8,11)]\n",
    "for i in rad:\n",
    "    for j in range(0,5):\n",
    "        \n",
    "        start = time.time()\n",
    "        train_x, valid_x = lbp(x_train[j*12000:j*12000+2000], x_train[j*12000+2000:(j+1)*12000], i, 1)\n",
    "        \n",
    "        train_y = y_train[j*12000:j*12000+2000]\n",
    "        valid_y = y_train[j*12000+2000:(j+1)*12000]\n",
    "\n",
    "        kernel = RationalQuadratic()\n",
    "        gpc = GaussianProcessClassifier(kernel=kernel)\n",
    "        gpc.fit(train_x, train_y)\n",
    "\n",
    "        pred_y = gpc.predict(valid_x)\n",
    "        end = time.time()\n",
    "        print(datetime.timedelta(seconds = int(end-start)))\n",
    "        print([i, j+1])\n",
    "        print(accuracy_score(valid_y, pred_y))"
   ]
  },
  {
   "cell_type": "code",
   "execution_count": null,
   "id": "6756ada5",
   "metadata": {},
   "outputs": [],
   "source": [
    "# 1 [0.7008,0.7007,0.7098,0.7236,0.7039]\n",
    "# 2 [0.7292,0.7227,0.7319,0.7432,0.7196]\n",
    "# 3 [0.7435,0.7354,0.6986,0.7523,0.7227]\n",
    "# 4 [0.7485,0.741,0.7483,0.7607,0.7395]\n",
    "# 5 [0.7447,0.7367,0.7405,0.7497,0.7305]\n",
    "# 6 [0.7345,0.69,0.7384,0.7507,0.7319]\n",
    "# 7 [0.7202,0.7262,0.7303,0.7332,0.7217]\n",
    "# 8 [0.7204,0.7205,0.7198,0.7237,0.717]\n",
    "# 9 [0.7106,0.7143,0.7095,0.718,0.7015]\n",
    "# 10 [0.7043,0.7093,0.7082,0.7145,0.7005]"
   ]
  }
 ],
 "metadata": {
  "kernelspec": {
   "display_name": "Python 3 (ipykernel)",
   "language": "python",
   "name": "python3"
  },
  "language_info": {
   "codemirror_mode": {
    "name": "ipython",
    "version": 3
   },
   "file_extension": ".py",
   "mimetype": "text/x-python",
   "name": "python",
   "nbconvert_exporter": "python",
   "pygments_lexer": "ipython3",
   "version": "3.9.15"
  }
 },
 "nbformat": 4,
 "nbformat_minor": 5
}
