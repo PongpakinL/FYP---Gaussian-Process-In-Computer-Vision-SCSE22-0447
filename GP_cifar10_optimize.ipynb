{
 "cells": [
  {
   "cell_type": "code",
   "execution_count": null,
   "id": "abb51b9b",
   "metadata": {},
   "outputs": [],
   "source": [
    "import time\n",
    "import cv2\n",
    "import datetime\n",
    "import numpy as np\n",
    "import matplotlib.pyplot as plt\n",
    "\n",
    "from keras.datasets import cifar10\n",
    "from scipy.spatial.distance import cdist\n",
    "from skimage.feature import hog, local_binary_pattern\n",
    "from sklearn.cluster import KMeans\n",
    "from sklearn.decomposition import PCA\n",
    "from sklearn.metrics import classification_report, accuracy_score\n",
    "from sklearn.gaussian_process import GaussianProcessClassifier\n",
    "from sklearn.gaussian_process.kernels import RBF, Matern, RationalQuadratic, ExpSineSquared, DotProduct, WhiteKernel"
   ]
  },
  {
   "cell_type": "code",
   "execution_count": null,
   "id": "68576cee",
   "metadata": {},
   "outputs": [],
   "source": [
    "(x_train, y_train), (x_test, y_test) = cifar10.load_data()\n",
    "y_train = y_train.flatten()\n",
    "y_test = y_test.flatten()\n",
    "print(x_train.shape)\n",
    "print(y_train.shape)\n",
    "print(x_test.shape)\n",
    "print(y_test.shape)"
   ]
  },
  {
   "cell_type": "code",
   "execution_count": null,
   "id": "e68d68d5",
   "metadata": {},
   "outputs": [],
   "source": [
    "label = ['airplane', 'automobile', 'bird', 'cat', 'deer', 'dog', 'frog', 'horse', 'ship', 'truck']"
   ]
  },
  {
   "cell_type": "code",
   "execution_count": null,
   "id": "6756bf07",
   "metadata": {},
   "outputs": [],
   "source": [
    "def showimage(image, train):\n",
    "    if train == True:\n",
    "        plt.imshow(x_train[image])\n",
    "        plt.axis('off')\n",
    "        plt.show()\n",
    "        return (label[y_train[image]])\n",
    "    else:\n",
    "        plt.imshow(x_test[image])\n",
    "        plt.axis('off')\n",
    "        plt.show()\n",
    "        return (label[y_test[image]])"
   ]
  },
  {
   "cell_type": "code",
   "execution_count": null,
   "id": "f2fcb9f1",
   "metadata": {},
   "outputs": [],
   "source": [
    "showimage(0,1)"
   ]
  },
  {
   "cell_type": "markdown",
   "id": "5cc352bf",
   "metadata": {},
   "source": [
    "# Grayscale"
   ]
  },
  {
   "cell_type": "code",
   "execution_count": null,
   "id": "c574512a",
   "metadata": {},
   "outputs": [],
   "source": [
    "def gray(train, test):\n",
    "    \n",
    "    train_gray = []\n",
    "    test_gray = []\n",
    "\n",
    "    for image in train:\n",
    "        image_gray = cv2.cvtColor(image, cv2.COLOR_BGR2GRAY)\n",
    "        train_gray.append(image_gray)\n",
    "\n",
    "    for image in test:\n",
    "        image_gray = cv2.cvtColor(image, cv2.COLOR_BGR2GRAY)\n",
    "        test_gray.append(image_gray)\n",
    "        \n",
    "    return np.array(train_gray), np.array(test_gray)"
   ]
  },
  {
   "cell_type": "markdown",
   "id": "2ba2d362",
   "metadata": {},
   "source": [
    "# Flatten"
   ]
  },
  {
   "cell_type": "code",
   "execution_count": null,
   "id": "c2c6fb88",
   "metadata": {},
   "outputs": [],
   "source": [
    "def flatten(train, test):\n",
    "    \n",
    "    return train.reshape(train.shape[0], -1), test.reshape(test.shape[0], -1)"
   ]
  },
  {
   "cell_type": "markdown",
   "id": "495b3484",
   "metadata": {},
   "source": [
    "# PCA"
   ]
  },
  {
   "cell_type": "code",
   "execution_count": null,
   "id": "29e5fb7b",
   "metadata": {},
   "outputs": [],
   "source": [
    "def pca(train, test, variance):\n",
    "    \n",
    "    train_flatten, test_flatten = flatten(train, test)\n",
    "    \n",
    "    pca = PCA(n_components = variance)\n",
    "    pca.fit(train_flatten)\n",
    "    \n",
    "    return pca.transform(train_flatten), pca.transform(test_flatten)"
   ]
  },
  {
   "cell_type": "markdown",
   "id": "967d6a04",
   "metadata": {},
   "source": [
    "# SIFT"
   ]
  },
  {
   "cell_type": "code",
   "execution_count": null,
   "id": "f313ed20",
   "metadata": {},
   "outputs": [],
   "source": [
    "def sift(train, test, num_cluster):\n",
    "    \n",
    "    sift = cv2.SIFT_create()\n",
    "    \n",
    "    sift_descriptors_train = []\n",
    "    for image in train:\n",
    "        kp, des = sift.detectAndCompute(image, None)\n",
    "        sift_descriptors_train.append(des)\n",
    "        \n",
    "    sift_descriptors_test = []\n",
    "    for image in test:\n",
    "        kp, des = sift.detectAndCompute(image, None)\n",
    "        sift_descriptors_test.append(des)\n",
    "        \n",
    "    sift_all_descriptors = []\n",
    "    for descriptor in sift_descriptors_train:\n",
    "        if descriptor is not None:\n",
    "            for des in descriptor:\n",
    "                sift_all_descriptors.append(des)\n",
    "                \n",
    "    sift_bow_dict = []\n",
    "    kmeans = KMeans(n_clusters = num_cluster)\n",
    "    kmeans.fit(sift_all_descriptors)\n",
    "    sift_bow_dict = kmeans.cluster_centers_\n",
    "    \n",
    "    train_sift = []\n",
    "    for image in sift_descriptors_train:\n",
    "        features = np.array([0] * num_cluster)\n",
    "        if image is not None:\n",
    "            distance = cdist(image, sift_bow_dict)\n",
    "            argmin = np.argmin(distance, axis = 1)\n",
    "            for i in argmin:\n",
    "                features[i] += 1\n",
    "        train_sift.append(features)\n",
    "\n",
    "    test_sift = []\n",
    "    for image in sift_descriptors_test:\n",
    "        features = np.array([0] * num_cluster)\n",
    "        if image is not None:\n",
    "            distance = cdist(image, sift_bow_dict)\n",
    "            argmin = np.argmin(distance, axis = 1)\n",
    "            for i in argmin:\n",
    "                features[i] += 1\n",
    "        test_sift.append(features)\n",
    "        \n",
    "    return np.array(train_sift), np.array(test_sift)"
   ]
  },
  {
   "cell_type": "markdown",
   "id": "a52b4e6a",
   "metadata": {},
   "source": [
    "# HOG"
   ]
  },
  {
   "cell_type": "code",
   "execution_count": null,
   "id": "2292bdd2",
   "metadata": {},
   "outputs": [],
   "source": [
    "def c_hog(train, test, orientations, ppc, cpb):\n",
    "    \n",
    "    train_hog = []\n",
    "    test_hog = []\n",
    "\n",
    "    for image in train:\n",
    "        fd, hog_image = hog(image, orientations=orientations, pixels_per_cell=(ppc,ppc), cells_per_block=(cpb, cpb), visualize=True, channel_axis=-1)\n",
    "        train_hog.append(fd)\n",
    "\n",
    "    for image in test:\n",
    "        fd, hog_image = hog(image, orientations=orientations, pixels_per_cell=(ppc,ppc), cells_per_block=(cpb, cpb), visualize=True, channel_axis=-1)\n",
    "        test_hog.append(fd)\n",
    "        \n",
    "    return np.array(train_hog), np.array(test_hog)"
   ]
  },
  {
   "cell_type": "markdown",
   "id": "46377a4c",
   "metadata": {},
   "source": [
    "# LBP"
   ]
  },
  {
   "cell_type": "code",
   "execution_count": null,
   "id": "da6eb159",
   "metadata": {},
   "outputs": [],
   "source": [
    "def lbp(train, test, radius):\n",
    "\n",
    "    train_gray, test_gray = gray(train, test)\n",
    "    train_lbp = []\n",
    "    test_lbp = []\n",
    "\n",
    "    for image in train_gray:\n",
    "        lbp = local_binary_pattern(image, 8 * radius, radius, 'uniform')\n",
    "        hist, _ = np.histogram(lbp, bins=8 * radius + 2, range=(0, 8 * radius + 2), density=True)\n",
    "        train_lbp.append(hist)\n",
    "\n",
    "    for image in test_gray:\n",
    "        lbp = local_binary_pattern(image, 8 * radius, radius, 'uniform')\n",
    "        hist, _ = np.histogram(lbp, bins=8 * radius + 2, range=(0, 8 * radius + 2), density=True)\n",
    "        test_lbp.append(hist)\n",
    "        \n",
    "    return np.array(train_lbp), np.array(test_lbp)"
   ]
  },
  {
   "cell_type": "markdown",
   "id": "b0b0c3d8",
   "metadata": {},
   "source": [
    "# Optimize"
   ]
  },
  {
   "cell_type": "markdown",
   "id": "987bb0f4",
   "metadata": {},
   "source": [
    "### PCA"
   ]
  },
  {
   "cell_type": "code",
   "execution_count": null,
   "id": "87be159c",
   "metadata": {},
   "outputs": [],
   "source": [
    "var = [0.5, 0.6, 0.7, 0.8, 0.9, 0.99]\n",
    "for i in var:\n",
    "    for j in range(0,5):\n",
    "        start = time.time()\n",
    "        train_x, valid_x = pca(x_train[j*10000:j*10000+2000], x_train[j*10000+2000:(j+1)*10000], i)\n",
    "        \n",
    "        train_y = y_train[j*10000:j*10000+2000]\n",
    "        valid_y = y_train[j*10000+2000:(j+1)*10000]\n",
    "\n",
    "        kernel = RationalQuadratic()\n",
    "        gpc = GaussianProcessClassifier(kernel=kernel)\n",
    "        gpc.fit(train_x, train_y)\n",
    "\n",
    "        pred_y = gpc.predict(valid_x)\n",
    "        end = time.time()\n",
    "        print(datetime.timedelta(seconds = int(end-start)))\n",
    "        print([i, j+1])\n",
    "        print(accuracy_score(valid_y, pred_y))"
   ]
  },
  {
   "cell_type": "code",
   "execution_count": null,
   "id": "c4b0c741",
   "metadata": {},
   "outputs": [],
   "source": [
    "# 0.5 [0.259375,0.2665,0.263,0.26625,0.27725]\n",
    "# 0.6 [0.320625,0.313125,0.3235,0.302,0.327125]\n",
    "# 0.7 [0.3465,0.34225,0.35,0.339625,0.341375]\n",
    "# 0.8 [0.367625,0.3595,0.372625,0.36725,0.35875]\n",
    "# 0.9 [0.372375,0.365625,0.363125,0.371375,0.367125]\n",
    "# 0.99 [0.368375,0.3645,0.374625,0.371125,0.364625]"
   ]
  },
  {
   "cell_type": "markdown",
   "id": "d5c898f0",
   "metadata": {},
   "source": [
    "### SIFT"
   ]
  },
  {
   "cell_type": "code",
   "execution_count": null,
   "id": "3fa0ef6e",
   "metadata": {},
   "outputs": [],
   "source": [
    "sift = cv2.SIFT_create()\n",
    "\n",
    "sift_descriptors_train = []\n",
    "for image in x_train:\n",
    "    kp, des = sift.detectAndCompute(image, None)\n",
    "    sift_descriptors_train.append(des)\n",
    "\n",
    "sift_all_descriptors = []\n",
    "for descriptor in sift_descriptors_train:\n",
    "    if descriptor is not None:\n",
    "        for des in descriptor:\n",
    "            sift_all_descriptors.append(des)"
   ]
  },
  {
   "cell_type": "code",
   "execution_count": null,
   "id": "56266629",
   "metadata": {},
   "outputs": [],
   "source": [
    "num = [i for i in range(190,201,10)]\n",
    "for num_cluster in num:\n",
    "    \n",
    "    start = time.time()\n",
    "    sift_bow_dict = []\n",
    "    kmeans = KMeans(n_clusters = num_cluster)\n",
    "    kmeans.fit(sift_all_descriptors)\n",
    "    sift_bow_dict = kmeans.cluster_centers_\n",
    "\n",
    "    train_sift = []\n",
    "    for image in sift_descriptors_train:\n",
    "        features = np.array([0] * num_cluster)\n",
    "        if image is not None:\n",
    "            distance = cdist(image, sift_bow_dict)\n",
    "            argmin = np.argmin(distance, axis = 1)\n",
    "            for i in argmin:\n",
    "                features[i] += 1\n",
    "        train_sift.append(features)\n",
    "    \n",
    "    for j in range(0,5):\n",
    "    \n",
    "        train_x = train_sift[j*10000:j*10000+2000]\n",
    "        valid_x = train_sift[j*10000+2000:(j+1)*10000]\n",
    "        train_y = y_train[j*10000:j*10000+2000]\n",
    "        valid_y = y_train[j*10000+2000:(j+1)*10000]\n",
    "\n",
    "        kernel = RationalQuadratic()\n",
    "        gpc = GaussianProcessClassifier(kernel=kernel)\n",
    "        gpc.fit(train_x, train_y)\n",
    "\n",
    "        pred_y = gpc.predict(valid_x)\n",
    "        end = time.time()\n",
    "        print(datetime.timedelta(seconds = int(end-start)))\n",
    "        print([num_cluster, j+1])\n",
    "        print(accuracy_score(valid_y, pred_y))"
   ]
  },
  {
   "cell_type": "code",
   "execution_count": null,
   "id": "846fa8a4",
   "metadata": {},
   "outputs": [],
   "source": [
    "# 10 [0.098125,0.097,0.12525,0.100125,0.096875]\n",
    "# 20 [0.098125,0.097,0.12925,0.100125,0.096875]\n",
    "# 30 [0.098125,0.097,0.134,0.100125,0.096875]\n",
    "# 40 [0.098125,0.097,0.136125,0.100125,0.096875]\n",
    "# 50 [0.098125,0.097,0.138125,0.100125,0.096875]\n",
    "# 60 [0.098125,0.097,0.13875,0.100125,0.096875]\n",
    "# 70 [0.098125,0.097,0.14,0.100125,0.096875]\n",
    "# 80 [0.098125,0.097,0.140125,0.100125,0.096875]\n",
    "# 90 [0.098125,0.097,0.139375,0.100125,0.096875]\n",
    "# 100 [0.098125,0.097,0.137,0.100125,0.096875]\n",
    "# 110 [0.098125,0.097,0.13925,0.100125,0.096875]\n",
    "# 120 [0.098125,0.097,0.137,0.100125,0.096875]\n",
    "# 130 [0.098125,0.097,0.137,0.100125,0.096875]\n",
    "# 140 [0.098125,0.097,0.1355,0.100125,0.096875]\n",
    "# 150 [0.098125,0.097,0.1365,0.100125,0.096875]\n",
    "# 160 [0.098125,0.097,0.1385,0.100125,0.096875]\n",
    "# 170 [0.098125,0.097,0.133875,0.100125,0.096875]\n",
    "# 180 [0.098125,0.097,0.136,0.100125,0.096875]\n",
    "# 190 [0.098125,0.097,0.1365,0.100125,0.096875]\n",
    "# 200 [0.098125,0.097,0.134875,0.100125,0.096875]"
   ]
  },
  {
   "cell_type": "markdown",
   "id": "4d705e38",
   "metadata": {},
   "source": [
    "### HOG"
   ]
  },
  {
   "cell_type": "code",
   "execution_count": null,
   "id": "190bf2f2",
   "metadata": {},
   "outputs": [],
   "source": [
    "ori = [8, 9]\n",
    "ppc = [4, 8]\n",
    "cpb = [1, 2, 3]\n",
    "for i in ori:\n",
    "    for j in ppc:\n",
    "        for k in cpb:\n",
    "            for l in range(0,5):\n",
    "                \n",
    "                start = time.time()\n",
    "                train_x, valid_x = c_hog(x_train[l*10000:l*10000+2000], x_train[l*10000+2000:(l+1)*10000], i, j, k)\n",
    "\n",
    "                train_y = y_train[l*10000:l*10000+2000]\n",
    "                valid_y = y_train[l*10000+2000:(l+1)*10000]\n",
    "\n",
    "                kernel = RationalQuadratic()\n",
    "                gpc = GaussianProcessClassifier(kernel=kernel)\n",
    "                gpc.fit(train_x, train_y)\n",
    "\n",
    "                pred_y = gpc.predict(valid_x)\n",
    "                end = time.time()\n",
    "                print(datetime.timedelta(seconds = int(end-start)))\n",
    "                print([i, j, k, l+1])\n",
    "                print(accuracy_score(valid_y, pred_y))"
   ]
  },
  {
   "cell_type": "code",
   "execution_count": null,
   "id": "e2eaf0da",
   "metadata": {},
   "outputs": [],
   "source": [
    "# 841 [0.098125,0.097,0.162875,0.100125,0.096875]\n",
    "# 842 [0.098125,0.097,0.1635,0.100125,0.096875]\n",
    "# 843 [0.098125,0.177625,0.1635,0.100125,0.096875]\n",
    "# 881 [0.409625,0.403125,0.41,0.40275,0.39925]\n",
    "# 882 [0.48875,0.487875,0.486625,0.47775,0.486125]\n",
    "# 883 [0.486625,0.499,0.49025,0.47875,0.48475]\n",
    "# 941 [0.098125,0.097,0.163125,0.100125,0.096875]\n",
    "# 942 [0.098125,0.097,0.163875,0.100125,0.096875]\n",
    "# 943 [0.098125,0.097,0.164125,0.100125,0.096875]\n",
    "# 981 [0.411875,0.41275,0.412375,0.4075,0.4025]\n",
    "# 982 [0.4865,0.490125,0.488,0.47725,0.48525]\n",
    "# 983 [0.49275,0.4925,0.49325,0.481375,0.48975]"
   ]
  },
  {
   "cell_type": "markdown",
   "id": "1d0b5ab3",
   "metadata": {},
   "source": [
    "### LBP"
   ]
  },
  {
   "cell_type": "code",
   "execution_count": null,
   "id": "8b74f222",
   "metadata": {},
   "outputs": [],
   "source": [
    "rad = [i for i in range(1,11)]\n",
    "for i in rad:\n",
    "    for j in range(0,5):\n",
    "        \n",
    "        start = time.time()\n",
    "        train_x, valid_x = lbp(x_train[j*10000:j*10000+2000], x_train[j*10000+2000:(j+1)*10000], i)\n",
    "        \n",
    "        train_y = y_train[j*10000:j*10000+2000]\n",
    "        valid_y = y_train[j*10000+2000:(j+1)*10000]\n",
    "\n",
    "        kernel = RationalQuadratic()\n",
    "        gpc = GaussianProcessClassifier(kernel=kernel)\n",
    "        gpc.fit(train_x, train_y)\n",
    "\n",
    "        pred_y = gpc.predict(valid_x)\n",
    "        end = time.time()\n",
    "        print(datetime.timedelta(seconds = int(end-start)))\n",
    "        print([i, j+1])\n",
    "        print(accuracy_score(valid_y, pred_y))"
   ]
  },
  {
   "cell_type": "code",
   "execution_count": null,
   "id": "4589bcff",
   "metadata": {},
   "outputs": [],
   "source": []
  }
 ],
 "metadata": {
  "kernelspec": {
   "display_name": "Python 3 (ipykernel)",
   "language": "python",
   "name": "python3"
  },
  "language_info": {
   "codemirror_mode": {
    "name": "ipython",
    "version": 3
   },
   "file_extension": ".py",
   "mimetype": "text/x-python",
   "name": "python",
   "nbconvert_exporter": "python",
   "pygments_lexer": "ipython3",
   "version": "3.9.15"
  }
 },
 "nbformat": 4,
 "nbformat_minor": 5
}
