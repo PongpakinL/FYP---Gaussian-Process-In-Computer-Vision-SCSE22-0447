{
 "cells": [
  {
   "cell_type": "code",
   "execution_count": 1,
   "id": "abb51b9b",
   "metadata": {},
   "outputs": [],
   "source": [
    "import time\n",
    "import cv2\n",
    "import datetime\n",
    "import numpy as np\n",
    "import matplotlib.pyplot as plt\n",
    "\n",
    "from keras.datasets import cifar10\n",
    "from scipy.spatial.distance import cdist\n",
    "from skimage.feature import hog, local_binary_pattern\n",
    "from sklearn.cluster import KMeans\n",
    "from sklearn.decomposition import PCA\n",
    "from sklearn.metrics import classification_report, accuracy_score\n",
    "from sklearn.gaussian_process import GaussianProcessClassifier\n",
    "from sklearn.gaussian_process.kernels import RBF, Matern, RationalQuadratic, ExpSineSquared, DotProduct, WhiteKernel"
   ]
  },
  {
   "cell_type": "code",
   "execution_count": 2,
   "id": "68576cee",
   "metadata": {},
   "outputs": [
    {
     "name": "stdout",
     "output_type": "stream",
     "text": [
      "(50000, 32, 32, 3)\n",
      "(50000,)\n",
      "(10000, 32, 32, 3)\n",
      "(10000,)\n"
     ]
    }
   ],
   "source": [
    "(x_train, y_train), (x_test, y_test) = cifar10.load_data()\n",
    "y_train = y_train.flatten()\n",
    "y_test = y_test.flatten()\n",
    "print(x_train.shape)\n",
    "print(y_train.shape)\n",
    "print(x_test.shape)\n",
    "print(y_test.shape)"
   ]
  },
  {
   "cell_type": "code",
   "execution_count": 3,
   "id": "e68d68d5",
   "metadata": {},
   "outputs": [],
   "source": [
    "label = ['airplane', 'automobile', 'bird', 'cat', 'deer', 'dog', 'frog', 'horse', 'ship', 'truck']"
   ]
  },
  {
   "cell_type": "code",
   "execution_count": 4,
   "id": "6756bf07",
   "metadata": {},
   "outputs": [],
   "source": [
    "def showimage(image, train):\n",
    "    if train == True:\n",
    "        plt.imshow(x_train[image])\n",
    "        plt.axis('off')\n",
    "        plt.show()\n",
    "        return (label[y_train[image]])\n",
    "    else:\n",
    "        plt.imshow(x_test[image])\n",
    "        plt.axis('off')\n",
    "        plt.show()\n",
    "        return (label[y_test[image]])"
   ]
  },
  {
   "cell_type": "code",
   "execution_count": 5,
   "id": "f2fcb9f1",
   "metadata": {},
   "outputs": [
    {
     "data": {
      "image/png": "[encoded data removed]",
      "text/plain": [
       "<Figure size 640x480 with 1 Axes>"
      ]
     },
     "metadata": {},
     "output_type": "display_data"
    },
    {
     "data": {
      "text/plain": [
       "'frog'"
      ]
     },
     "execution_count": 5,
     "metadata": {},
     "output_type": "execute_result"
    }
   ],
   "source": [
    "showimage(0,1)"
   ]
  },
  {
   "cell_type": "markdown",
   "id": "5cc352bf",
   "metadata": {},
   "source": [
    "# Grayscale"
   ]
  },
  {
   "cell_type": "code",
   "execution_count": 6,
   "id": "c574512a",
   "metadata": {},
   "outputs": [],
   "source": [
    "def gray(train, test):\n",
    "    \n",
    "    train_gray = []\n",
    "    test_gray = []\n",
    "\n",
    "    for image in train:\n",
    "        image_gray = cv2.cvtColor(image, cv2.COLOR_BGR2GRAY)\n",
    "        train_gray.append(image_gray)\n",
    "\n",
    "    for image in test:\n",
    "        image_gray = cv2.cvtColor(image, cv2.COLOR_BGR2GRAY)\n",
    "        test_gray.append(image_gray)\n",
    "        \n",
    "    return np.array(train_gray), np.array(test_gray)"
   ]
  },
  {
   "cell_type": "markdown",
   "id": "2ba2d362",
   "metadata": {},
   "source": [
    "# Flatten"
   ]
  },
  {
   "cell_type": "code",
   "execution_count": 7,
   "id": "c2c6fb88",
   "metadata": {},
   "outputs": [],
   "source": [
    "def flatten(train, test):\n",
    "    \n",
    "    return train.reshape(train.shape[0], -1), test.reshape(test.shape[0], -1)"
   ]
  },
  {
   "cell_type": "markdown",
   "id": "495b3484",
   "metadata": {},
   "source": [
    "# PCA"
   ]
  },
  {
   "cell_type": "code",
   "execution_count": 8,
   "id": "29e5fb7b",
   "metadata": {},
   "outputs": [],
   "source": [
    "def pca(train, test, variance):\n",
    "    \n",
    "    train_flatten, test_flatten = flatten(train, test)\n",
    "    \n",
    "    pca = PCA(n_components = variance)\n",
    "    pca.fit(train_flatten)\n",
    "    \n",
    "    return pca.transform(train_flatten), pca.transform(test_flatten)"
   ]
  },
  {
   "cell_type": "markdown",
   "id": "967d6a04",
   "metadata": {},
   "source": [
    "# SIFT"
   ]
  },
  {
   "cell_type": "code",
   "execution_count": 9,
   "id": "f313ed20",
   "metadata": {},
   "outputs": [],
   "source": [
    "def sift(train, test, num_cluster):\n",
    "    \n",
    "    sift = cv2.SIFT_create()\n",
    "    \n",
    "    sift_descriptors_train = []\n",
    "    for image in train:\n",
    "        kp, des = sift.detectAndCompute(image, None)\n",
    "        sift_descriptors_train.append(des)\n",
    "        \n",
    "    sift_descriptors_test = []\n",
    "    for image in test:\n",
    "        kp, des = sift.detectAndCompute(image, None)\n",
    "        sift_descriptors_test.append(des)\n",
    "        \n",
    "    sift_all_descriptors = []\n",
    "    for descriptor in sift_descriptors_train:\n",
    "        if descriptor is not None:\n",
    "            for des in descriptor:\n",
    "                sift_all_descriptors.append(des)\n",
    "                \n",
    "    sift_bow_dict = []\n",
    "    kmeans = KMeans(n_clusters = num_cluster)\n",
    "    kmeans.fit(sift_all_descriptors)\n",
    "    sift_bow_dict = kmeans.cluster_centers_\n",
    "    \n",
    "    train_sift = []\n",
    "    for image in sift_descriptors_train:\n",
    "        features = np.array([0] * num_cluster)\n",
    "        if image is not None:\n",
    "            distance = cdist(image, sift_bow_dict)\n",
    "            argmin = np.argmin(distance, axis = 1)\n",
    "            for i in argmin:\n",
    "                features[i] += 1\n",
    "        train_sift.append(features)\n",
    "\n",
    "    test_sift = []\n",
    "    for image in sift_descriptors_test:\n",
    "        features = np.array([0] * num_cluster)\n",
    "        if image is not None:\n",
    "            distance = cdist(image, sift_bow_dict)\n",
    "            argmin = np.argmin(distance, axis = 1)\n",
    "            for i in argmin:\n",
    "                features[i] += 1\n",
    "        test_sift.append(features)\n",
    "        \n",
    "    return np.array(train_sift), np.array(test_sift)"
   ]
  },
  {
   "cell_type": "markdown",
   "id": "a52b4e6a",
   "metadata": {},
   "source": [
    "# HOG"
   ]
  },
  {
   "cell_type": "code",
   "execution_count": 10,
   "id": "2292bdd2",
   "metadata": {},
   "outputs": [],
   "source": [
    "def c_hog(train, test, orientations, ppc, cpb):\n",
    "    \n",
    "    train_hog = []\n",
    "    test_hog = []\n",
    "\n",
    "    for image in train:\n",
    "        fd, hog_image = hog(image, orientations=orientations, pixels_per_cell=(ppc,ppc), cells_per_block=(cpb, cpb), visualize=True, channel_axis=-1)\n",
    "        train_hog.append(fd)\n",
    "\n",
    "    for image in test:\n",
    "        fd, hog_image = hog(image, orientations=orientations, pixels_per_cell=(ppc,ppc), cells_per_block=(cpb, cpb), visualize=True, channel_axis=-1)\n",
    "        test_hog.append(fd)\n",
    "        \n",
    "    return np.array(train_hog), np.array(test_hog)"
   ]
  },
  {
   "cell_type": "markdown",
   "id": "46377a4c",
   "metadata": {},
   "source": [
    "# LBP"
   ]
  },
  {
   "cell_type": "code",
   "execution_count": 11,
   "id": "da6eb159",
   "metadata": {},
   "outputs": [],
   "source": [
    "def lbp(train, test, radius, flat):\n",
    "\n",
    "    train_gray, test_gray = gray(train, test)\n",
    "    train_lbp = []\n",
    "    test_lbp = []\n",
    "\n",
    "    for image in train_gray:\n",
    "        lbp = local_binary_pattern(image, 8 * radius, radius, 'uniform')\n",
    "        train_lbp.append(lbp)\n",
    "\n",
    "    for image in test_gray:\n",
    "        lbp = local_binary_pattern(image, 8 * radius, radius, 'uniform')\n",
    "        test_lbp.append(lbp)\n",
    "        \n",
    "    train_lbp = np.array(train_lbp)\n",
    "    test_lbp = np.array(test_lbp)\n",
    "        \n",
    "    if flat == True:\n",
    "        return flatten(train_lbp.round().astype(np.uint8), test_lbp.round().astype(np.uint8))\n",
    "    else:\n",
    "        return train_lbp.round().astype(np.uint8), test_lbp.round().astype(np.uint8)"
   ]
  },
  {
   "cell_type": "markdown",
   "id": "64ad5fbe",
   "metadata": {},
   "source": [
    "# SIFT + LBP"
   ]
  },
  {
   "cell_type": "code",
   "execution_count": 12,
   "id": "8bcfd5b1",
   "metadata": {},
   "outputs": [],
   "source": [
    "def siftlbp(train, test, num_cluster, radius):\n",
    "    \n",
    "    train_siftlbp, test_siftlbp = lbp(train, test, radius, 0)\n",
    "    \n",
    "    return sift(train_siftlbp, test_siftlbp, num_cluster)"
   ]
  },
  {
   "cell_type": "markdown",
   "id": "5ac9564d",
   "metadata": {},
   "source": [
    "# HOG + LBP"
   ]
  },
  {
   "cell_type": "code",
   "execution_count": 13,
   "id": "c9b47d58",
   "metadata": {},
   "outputs": [],
   "source": [
    "def hoglbp(train, test, orientations, ppc, cpb, radius):\n",
    "    \n",
    "    train_lbp, test_lbp = lbp(train, test, radius, 0)\n",
    "    \n",
    "    train_hoglbp = []\n",
    "    test_hoglbp = []\n",
    "\n",
    "    for image in train_lbp:\n",
    "        fd, hog_image = hog(image, orientations=orientations, pixels_per_cell=(ppc,ppc), cells_per_block=(cpb, cpb), visualize=True)\n",
    "        train_hoglbp.append(fd)\n",
    "\n",
    "    for image in test_lbp:\n",
    "        fd, hog_image = hog(image, orientations=orientations, pixels_per_cell=(ppc,ppc), cells_per_block=(cpb, cpb), visualize=True)\n",
    "        test_hoglbp.append(fd)\n",
    "        \n",
    "    return np.array(train_hoglbp), np.array(test_hoglbp)"
   ]
  },
  {
   "cell_type": "markdown",
   "id": "b0b0c3d8",
   "metadata": {},
   "source": [
    "# Gaussian Process"
   ]
  },
  {
   "cell_type": "code",
   "execution_count": 14,
   "id": "077935dc",
   "metadata": {},
   "outputs": [],
   "source": [
    "train_gpc, test_gpc = pca(x_train, x_test, 180)"
   ]
  },
  {
   "cell_type": "code",
   "execution_count": 15,
   "id": "bb890c09",
   "metadata": {},
   "outputs": [
    {
     "name": "stdout",
     "output_type": "stream",
     "text": [
      "(50000, 180)\n",
      "(10000, 180)\n"
     ]
    }
   ],
   "source": [
    "print(train_gpc.shape)\n",
    "print(test_gpc.shape)"
   ]
  },
  {
   "cell_type": "code",
   "execution_count": 19,
   "id": "34441d7f",
   "metadata": {},
   "outputs": [],
   "source": [
    "N = 5000\n",
    "x = train_gpc[:N]\n",
    "y = y_train[:N]"
   ]
  },
  {
   "cell_type": "code",
   "execution_count": 20,
   "id": "b5dde23a",
   "metadata": {},
   "outputs": [
    {
     "name": "stderr",
     "output_type": "stream",
     "text": [
      "C:\\Users\\pongp\\anaconda3\\lib\\site-packages\\sklearn\\gaussian_process\\kernels.py:430: ConvergenceWarning: The optimal value found for dimension 0 of parameter alpha is close to the specified upper bound 100000.0. Increasing the bound and calling fit again may find a better value.\n",
      "  warnings.warn(\n"
     ]
    },
    {
     "name": "stdout",
     "output_type": "stream",
     "text": [
      "1:05:53\n"
     ]
    }
   ],
   "source": [
    "start = time.time()\n",
    "kernel = RationalQuadratic()\n",
    "gpc = GaussianProcessClassifier(kernel=kernel)\n",
    "gpc.fit(x, y)\n",
    "end = time.time()\n",
    "print(datetime.timedelta(seconds = int(end-start)))"
   ]
  },
  {
   "cell_type": "code",
   "execution_count": 21,
   "id": "18e0df4e",
   "metadata": {},
   "outputs": [
    {
     "name": "stdout",
     "output_type": "stream",
     "text": [
      "              precision    recall  f1-score   support\n",
      "\n",
      "           0       0.49      0.50      0.49      1000\n",
      "           1       0.51      0.46      0.48      1000\n",
      "           2       0.30      0.28      0.29      1000\n",
      "           3       0.34      0.17      0.23      1000\n",
      "           4       0.35      0.35      0.35      1000\n",
      "           5       0.36      0.37      0.37      1000\n",
      "           6       0.40      0.54      0.46      1000\n",
      "           7       0.46      0.39      0.43      1000\n",
      "           8       0.47      0.62      0.53      1000\n",
      "           9       0.44      0.51      0.47      1000\n",
      "\n",
      "    accuracy                           0.42     10000\n",
      "   macro avg       0.41      0.42      0.41     10000\n",
      "weighted avg       0.41      0.42      0.41     10000\n",
      "\n",
      "0.4184\n"
     ]
    }
   ],
   "source": [
    "y_pred = gpc.predict(test_gpc)\n",
    "print(classification_report(y_test, y_pred))\n",
    "print(accuracy_score(y_test, y_pred))"
   ]
  },
  {
   "cell_type": "code",
   "execution_count": 14,
   "id": "749076ef",
   "metadata": {},
   "outputs": [
    {
     "name": "stderr",
     "output_type": "stream",
     "text": [
      "C:\\Users\\pongp\\anaconda3\\lib\\site-packages\\sklearn\\gaussian_process\\kernels.py:420: ConvergenceWarning: The optimal value found for dimension 0 of parameter alpha is close to the specified lower bound 1e-05. Decreasing the bound and calling fit again may find a better value.\n",
      "  warnings.warn(\n",
      "C:\\Users\\pongp\\anaconda3\\lib\\site-packages\\sklearn\\gaussian_process\\kernels.py:430: ConvergenceWarning: The optimal value found for dimension 0 of parameter length_scale is close to the specified upper bound 100000.0. Increasing the bound and calling fit again may find a better value.\n",
      "  warnings.warn(\n"
     ]
    },
    {
     "name": "stdout",
     "output_type": "stream",
     "text": [
      "0:18:16\n",
      "0.2008\n"
     ]
    }
   ],
   "source": [
    "train_gpc, test_gpc = sift(x_train, x_test, 80)\n",
    "\n",
    "N = 4000\n",
    "x = train_gpc[:N]\n",
    "y = y_train[:N]\n",
    "\n",
    "start = time.time()\n",
    "kernel = RationalQuadratic()\n",
    "gpc = GaussianProcessClassifier(kernel=kernel)\n",
    "gpc.fit(x, y)\n",
    "end = time.time()\n",
    "print(datetime.timedelta(seconds = int(end-start)))\n",
    "\n",
    "y_pred = gpc.predict(test_gpc)\n",
    "print(accuracy_score(y_test, y_pred))"
   ]
  },
  {
   "cell_type": "code",
   "execution_count": 15,
   "id": "fe112fe5",
   "metadata": {},
   "outputs": [
    {
     "name": "stderr",
     "output_type": "stream",
     "text": [
      "C:\\Users\\pongp\\anaconda3\\lib\\site-packages\\sklearn\\gaussian_process\\kernels.py:430: ConvergenceWarning: The optimal value found for dimension 0 of parameter alpha is close to the specified upper bound 100000.0. Increasing the bound and calling fit again may find a better value.\n",
      "  warnings.warn(\n"
     ]
    },
    {
     "name": "stdout",
     "output_type": "stream",
     "text": [
      "0:45:06\n",
      "0.5193\n"
     ]
    }
   ],
   "source": [
    "train_gpc, test_gpc = c_hog(x_train, x_test, 9, 8, 3)\n",
    "\n",
    "N = 4000\n",
    "x = train_gpc[:N]\n",
    "y = y_train[:N]\n",
    "\n",
    "start = time.time()\n",
    "kernel = RationalQuadratic()\n",
    "gpc = GaussianProcessClassifier(kernel=kernel)\n",
    "gpc.fit(x, y)\n",
    "end = time.time()\n",
    "print(datetime.timedelta(seconds = int(end-start)))\n",
    "\n",
    "y_pred = gpc.predict(test_gpc)\n",
    "print(accuracy_score(y_test, y_pred))"
   ]
  },
  {
   "cell_type": "code",
   "execution_count": 16,
   "id": "68a34104",
   "metadata": {},
   "outputs": [
    {
     "name": "stderr",
     "output_type": "stream",
     "text": [
      "C:\\Users\\pongp\\anaconda3\\lib\\site-packages\\sklearn\\gaussian_process\\kernels.py:430: ConvergenceWarning: The optimal value found for dimension 0 of parameter alpha is close to the specified upper bound 100000.0. Increasing the bound and calling fit again may find a better value.\n",
      "  warnings.warn(\n"
     ]
    },
    {
     "name": "stdout",
     "output_type": "stream",
     "text": [
      "2:03:14\n",
      "0.2416\n"
     ]
    }
   ],
   "source": [
    "train_gpc, test_gpc = lbp(x_train, x_test, 7, 1)\n",
    "\n",
    "N = 4000\n",
    "x = train_gpc[:N]\n",
    "y = y_train[:N]\n",
    "\n",
    "start = time.time()\n",
    "kernel = RationalQuadratic()\n",
    "gpc = GaussianProcessClassifier(kernel=kernel)\n",
    "gpc.fit(x, y)\n",
    "end = time.time()\n",
    "print(datetime.timedelta(seconds = int(end-start)))\n",
    "\n",
    "y_pred = gpc.predict(test_gpc)\n",
    "print(accuracy_score(y_test, y_pred))"
   ]
  },
  {
   "cell_type": "code",
   "execution_count": 17,
   "id": "56fa4580",
   "metadata": {},
   "outputs": [
    {
     "name": "stderr",
     "output_type": "stream",
     "text": [
      "C:\\Users\\pongp\\anaconda3\\lib\\site-packages\\sklearn\\gaussian_process\\kernels.py:430: ConvergenceWarning: The optimal value found for dimension 0 of parameter alpha is close to the specified upper bound 100000.0. Increasing the bound and calling fit again may find a better value.\n",
      "  warnings.warn(\n"
     ]
    },
    {
     "name": "stdout",
     "output_type": "stream",
     "text": [
      "1:46:06\n",
      "0.4027\n"
     ]
    }
   ],
   "source": [
    "train_gpc, test_gpc = pca(x_train, x_test, 0.99)\n",
    "\n",
    "N = 4000\n",
    "x = train_gpc[:N]\n",
    "y = y_train[:N]\n",
    "\n",
    "start = time.time()\n",
    "kernel = RationalQuadratic()\n",
    "gpc = GaussianProcessClassifier(kernel=kernel)\n",
    "gpc.fit(x, y)\n",
    "end = time.time()\n",
    "print(datetime.timedelta(seconds = int(end-start)))\n",
    "\n",
    "y_pred = gpc.predict(test_gpc)\n",
    "print(accuracy_score(y_test, y_pred))"
   ]
  },
  {
   "cell_type": "code",
   "execution_count": null,
   "id": "460bc4ab",
   "metadata": {},
   "outputs": [],
   "source": [
    "# SIFT 0.2008\n",
    "# HOG 0.5193\n",
    "# LBP 0.2416\n",
    "# PCA 0.4027"
   ]
  }
 ],
 "metadata": {
  "kernelspec": {
   "display_name": "Python 3 (ipykernel)",
   "language": "python",
   "name": "python3"
  },
  "language_info": {
   "codemirror_mode": {
    "name": "ipython",
    "version": 3
   },
   "file_extension": ".py",
   "mimetype": "text/x-python",
   "name": "python",
   "nbconvert_exporter": "python",
   "pygments_lexer": "ipython3",
   "version": "3.9.15"
  }
 },
 "nbformat": 4,
 "nbformat_minor": 5
}
