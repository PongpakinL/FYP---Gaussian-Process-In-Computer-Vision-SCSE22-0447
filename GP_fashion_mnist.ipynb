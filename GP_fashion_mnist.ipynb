{
 "cells": [
  {
   "cell_type": "code",
   "execution_count": 1,
   "id": "abb51b9b",
   "metadata": {},
   "outputs": [],
   "source": [
    "import time\n",
    "import cv2\n",
    "import datetime\n",
    "import numpy as np\n",
    "import matplotlib.pyplot as plt\n",
    "\n",
    "from keras.datasets import fashion_mnist\n",
    "from scipy.spatial.distance import cdist\n",
    "from skimage.feature import hog, local_binary_pattern\n",
    "from sklearn.cluster import KMeans\n",
    "from sklearn.decomposition import PCA\n",
    "from sklearn.metrics import classification_report, accuracy_score\n",
    "from sklearn.gaussian_process import GaussianProcessClassifier\n",
    "from sklearn.gaussian_process.kernels import RBF, Matern, RationalQuadratic, ExpSineSquared, DotProduct, WhiteKernel"
   ]
  },
  {
   "cell_type": "code",
   "execution_count": 2,
   "id": "68576cee",
   "metadata": {},
   "outputs": [
    {
     "name": "stdout",
     "output_type": "stream",
     "text": [
      "(60000, 28, 28)\n",
      "(60000,)\n",
      "(10000, 28, 28)\n",
      "(10000,)\n"
     ]
    }
   ],
   "source": [
    "(x_train, y_train), (x_test, y_test) = fashion_mnist.load_data()\n",
    "print(x_train.shape)\n",
    "print(y_train.shape)\n",
    "print(x_test.shape)\n",
    "print(y_test.shape)"
   ]
  },
  {
   "cell_type": "code",
   "execution_count": 3,
   "id": "85a59451",
   "metadata": {},
   "outputs": [],
   "source": [
    "label = ['T-shirt/top', 'Trouser', 'Pullover', 'Dress', 'Coat', 'Sandal', 'Shirt', 'Sneaker', 'Bag', 'Ankle boot']"
   ]
  },
  {
   "cell_type": "code",
   "execution_count": 4,
   "id": "6756bf07",
   "metadata": {},
   "outputs": [],
   "source": [
    "def showimage(image, train):\n",
    "    if train == True:\n",
    "        plt.imshow(x_train[image], cmap = 'gray')\n",
    "        plt.axis('off')\n",
    "        plt.show()\n",
    "        return (label[y_train[image]])\n",
    "    else:\n",
    "        plt.imshow(x_test[image], cmap = 'gray')\n",
    "        plt.axis('off')\n",
    "        plt.show()\n",
    "        return (label[y_test[image]])"
   ]
  },
  {
   "cell_type": "code",
   "execution_count": 5,
   "id": "f2fcb9f1",
   "metadata": {},
   "outputs": [
    {
     "data": {
      "image/png": "[encoded data removed]",
      "text/plain": [
       "<Figure size 640x480 with 1 Axes>"
      ]
     },
     "metadata": {},
     "output_type": "display_data"
    },
    {
     "data": {
      "text/plain": [
       "'Ankle boot'"
      ]
     },
     "execution_count": 5,
     "metadata": {},
     "output_type": "execute_result"
    }
   ],
   "source": [
    "showimage(0,1)"
   ]
  },
  {
   "cell_type": "markdown",
   "id": "2ba2d362",
   "metadata": {},
   "source": [
    "# Flatten"
   ]
  },
  {
   "cell_type": "code",
   "execution_count": 6,
   "id": "c61d8270",
   "metadata": {},
   "outputs": [],
   "source": [
    "def flatten(train, test):\n",
    "    \n",
    "    return train.reshape(train.shape[0], -1), test.reshape(test.shape[0], -1)"
   ]
  },
  {
   "cell_type": "markdown",
   "id": "495b3484",
   "metadata": {},
   "source": [
    "# PCA"
   ]
  },
  {
   "cell_type": "code",
   "execution_count": 7,
   "id": "c2507e9f",
   "metadata": {},
   "outputs": [],
   "source": [
    "def pca(train, test, variance):\n",
    "    \n",
    "    train_flatten, test_flatten = flatten(train, test)\n",
    "    \n",
    "    pca = PCA(n_components = variance)\n",
    "    pca.fit(train_flatten)\n",
    "    \n",
    "    return pca.transform(train_flatten), pca.transform(test_flatten)"
   ]
  },
  {
   "cell_type": "markdown",
   "id": "967d6a04",
   "metadata": {},
   "source": [
    "# SIFT"
   ]
  },
  {
   "cell_type": "code",
   "execution_count": 8,
   "id": "f9549944",
   "metadata": {},
   "outputs": [],
   "source": [
    "def sift(train, test, num_cluster):\n",
    "    \n",
    "    sift = cv2.SIFT_create()\n",
    "    \n",
    "    sift_descriptors_train = []\n",
    "    for image in train:\n",
    "        kp, des = sift.detectAndCompute(image, None)\n",
    "        sift_descriptors_train.append(des)\n",
    "        \n",
    "    sift_descriptors_test = []\n",
    "    for image in test:\n",
    "        kp, des = sift.detectAndCompute(image, None)\n",
    "        sift_descriptors_test.append(des)\n",
    "        \n",
    "    sift_all_descriptors = []\n",
    "    for descriptor in sift_descriptors_train:\n",
    "        if descriptor is not None:\n",
    "            for des in descriptor:\n",
    "                sift_all_descriptors.append(des)\n",
    "                \n",
    "    sift_bow_dict = []\n",
    "    kmeans = KMeans(n_clusters = num_cluster)\n",
    "    kmeans.fit(sift_all_descriptors)\n",
    "    sift_bow_dict = kmeans.cluster_centers_\n",
    "    \n",
    "    train_sift = []\n",
    "    for image in sift_descriptors_train:\n",
    "        features = np.array([0] * num_cluster)\n",
    "        if image is not None:\n",
    "            distance = cdist(image, sift_bow_dict)\n",
    "            argmin = np.argmin(distance, axis = 1)\n",
    "            for i in argmin:\n",
    "                features[i] += 1\n",
    "        train_sift.append(features)\n",
    "\n",
    "    test_sift = []\n",
    "    for image in sift_descriptors_test:\n",
    "        features = np.array([0] * num_cluster)\n",
    "        if image is not None:\n",
    "            distance = cdist(image, sift_bow_dict)\n",
    "            argmin = np.argmin(distance, axis = 1)\n",
    "            for i in argmin:\n",
    "                features[i] += 1\n",
    "        test_sift.append(features)\n",
    "        \n",
    "    return np.array(train_sift), np.array(test_sift)"
   ]
  },
  {
   "cell_type": "markdown",
   "id": "a52b4e6a",
   "metadata": {},
   "source": [
    "# HOG"
   ]
  },
  {
   "cell_type": "code",
   "execution_count": 9,
   "id": "b5fa349f",
   "metadata": {},
   "outputs": [],
   "source": [
    "def c_hog(train, test, orientations, ppc, cpb):\n",
    "    \n",
    "    train_hog = []\n",
    "    test_hog = []\n",
    "\n",
    "    for image in train:\n",
    "        fd, hog_image = hog(image, orientations=orientations, pixels_per_cell=(ppc,ppc), cells_per_block=(cpb, cpb), visualize=True)\n",
    "        train_hog.append(fd)\n",
    "\n",
    "    for image in test:\n",
    "        fd, hog_image = hog(image, orientations=orientations, pixels_per_cell=(ppc,ppc), cells_per_block=(cpb, cpb), visualize=True)\n",
    "        test_hog.append(fd)\n",
    "        \n",
    "    return np.array(train_hog), np.array(test_hog)"
   ]
  },
  {
   "cell_type": "markdown",
   "id": "36482ae2",
   "metadata": {},
   "source": [
    "# LBP"
   ]
  },
  {
   "cell_type": "code",
   "execution_count": 10,
   "id": "2215f987",
   "metadata": {},
   "outputs": [],
   "source": [
    "def lbp(train, test, radius, flat):\n",
    "\n",
    "    train_lbp = []\n",
    "    test_lbp = []\n",
    "\n",
    "    for image in train:\n",
    "        lbp = local_binary_pattern(image, 8 * radius, radius, 'uniform')\n",
    "        train_lbp.append(lbp)\n",
    "\n",
    "    for image in test:\n",
    "        lbp = local_binary_pattern(image, 8 * radius, radius, 'uniform')\n",
    "        test_lbp.append(lbp)\n",
    "        \n",
    "    train_lbp = np.array(train_lbp)\n",
    "    test_lbp = np.array(test_lbp)\n",
    "        \n",
    "    if flat == True:\n",
    "        return flatten(train_lbp.round().astype(np.uint8), test_lbp.round().astype(np.uint8))\n",
    "    else:\n",
    "        return train_lbp.round().astype(np.uint8), test_lbp.round().astype(np.uint8)"
   ]
  },
  {
   "cell_type": "markdown",
   "id": "51990ffb",
   "metadata": {},
   "source": [
    "# SIFT + LBP"
   ]
  },
  {
   "cell_type": "code",
   "execution_count": 11,
   "id": "a65ccd37",
   "metadata": {},
   "outputs": [],
   "source": [
    "def siftlbp(train, test, num_cluster, radius):\n",
    "    \n",
    "    train_siftlbp, test_siftlbp = lbp(train, test, radius, 0)\n",
    "    \n",
    "    return sift(train_siftlbp, test_siftlbp, num_cluster)"
   ]
  },
  {
   "cell_type": "markdown",
   "id": "4190f6d6",
   "metadata": {},
   "source": [
    "# HOG + LBP"
   ]
  },
  {
   "cell_type": "code",
   "execution_count": 12,
   "id": "a1e3f282",
   "metadata": {},
   "outputs": [],
   "source": [
    "def hoglbp(train, test, orientations, ppc, cpb, radius):\n",
    "    \n",
    "    train_hoglbp, test_hoglbp = lbp(train, test, radius, 0)\n",
    "    \n",
    "    return c_hog(train_hoglbp, test_hoglbp, orientations, ppc, cpb)"
   ]
  },
  {
   "cell_type": "markdown",
   "id": "b2c2d61b",
   "metadata": {},
   "source": [
    "# Gaussian Process"
   ]
  },
  {
   "cell_type": "code",
   "execution_count": null,
   "id": "10026272",
   "metadata": {},
   "outputs": [],
   "source": [
    "train_gpc, test_gpc = c_hog(x_train, x_test, 8, 2, 10)"
   ]
  },
  {
   "cell_type": "code",
   "execution_count": null,
   "id": "210a87f6",
   "metadata": {},
   "outputs": [],
   "source": [
    "print(train_gpc.shape)\n",
    "print(test_gpc.shape)"
   ]
  },
  {
   "cell_type": "code",
   "execution_count": null,
   "id": "1f58c4a0",
   "metadata": {},
   "outputs": [],
   "source": [
    "N = 500\n",
    "x = train_gpc[:N]\n",
    "y = y_train[:N]"
   ]
  },
  {
   "cell_type": "code",
   "execution_count": null,
   "id": "9ddb8d69",
   "metadata": {},
   "outputs": [],
   "source": [
    "start = time.time()\n",
    "kernel = RationalQuadratic()\n",
    "gpc = GaussianProcessClassifier(kernel=kernel)\n",
    "gpc.fit(x, y)\n",
    "end = time.time()\n",
    "print(datetime.timedelta(seconds = int(end-start)))"
   ]
  },
  {
   "cell_type": "code",
   "execution_count": null,
   "id": "0a5729de",
   "metadata": {},
   "outputs": [],
   "source": [
    "y_pred = gpc.predict(test_gpc)\n",
    "print(classification_report(y_test, y_pred))\n",
    "print(accuracy_score(y_test, y_pred))"
   ]
  },
  {
   "cell_type": "code",
   "execution_count": 13,
   "id": "56cb3b91",
   "metadata": {},
   "outputs": [
    {
     "name": "stdout",
     "output_type": "stream",
     "text": [
      "0:31:50\n",
      "0.5331\n"
     ]
    }
   ],
   "source": [
    "train_gpc, test_gpc = sift(x_train, x_test, 70)\n",
    "\n",
    "N = 4000\n",
    "x = train_gpc[:N]\n",
    "y = y_train[:N]\n",
    "\n",
    "start = time.time()\n",
    "kernel = RationalQuadratic()\n",
    "gpc = GaussianProcessClassifier(kernel=kernel)\n",
    "gpc.fit(x, y)\n",
    "end = time.time()\n",
    "print(datetime.timedelta(seconds = int(end-start)))\n",
    "\n",
    "y_pred = gpc.predict(test_gpc)\n",
    "print(accuracy_score(y_test, y_pred))"
   ]
  },
  {
   "cell_type": "code",
   "execution_count": 14,
   "id": "9291e94e",
   "metadata": {},
   "outputs": [
    {
     "name": "stderr",
     "output_type": "stream",
     "text": [
      "C:\\Users\\pongp\\anaconda3\\lib\\site-packages\\sklearn\\gaussian_process\\kernels.py:430: ConvergenceWarning: The optimal value found for dimension 0 of parameter alpha is close to the specified upper bound 100000.0. Increasing the bound and calling fit again may find a better value.\n",
      "  warnings.warn(\n"
     ]
    },
    {
     "name": "stdout",
     "output_type": "stream",
     "text": [
      "1:47:16\n",
      "0.8376\n"
     ]
    }
   ],
   "source": [
    "train_gpc, test_gpc = c_hog(x_train, x_test, 9, 4, 3)\n",
    "\n",
    "N = 4000\n",
    "x = train_gpc[:N]\n",
    "y = y_train[:N]\n",
    "\n",
    "start = time.time()\n",
    "kernel = RationalQuadratic()\n",
    "gpc = GaussianProcessClassifier(kernel=kernel)\n",
    "gpc.fit(x, y)\n",
    "end = time.time()\n",
    "print(datetime.timedelta(seconds = int(end-start)))\n",
    "\n",
    "y_pred = gpc.predict(test_gpc)\n",
    "print(accuracy_score(y_test, y_pred))"
   ]
  },
  {
   "cell_type": "code",
   "execution_count": 15,
   "id": "8f40b55a",
   "metadata": {},
   "outputs": [
    {
     "name": "stderr",
     "output_type": "stream",
     "text": [
      "C:\\Users\\pongp\\anaconda3\\lib\\site-packages\\sklearn\\gaussian_process\\kernels.py:430: ConvergenceWarning: The optimal value found for dimension 0 of parameter alpha is close to the specified upper bound 100000.0. Increasing the bound and calling fit again may find a better value.\n",
      "  warnings.warn(\n"
     ]
    },
    {
     "name": "stdout",
     "output_type": "stream",
     "text": [
      "2:09:52\n",
      "0.7669\n"
     ]
    }
   ],
   "source": [
    "train_gpc, test_gpc = lbp(x_train, x_test, 4, 1)\n",
    "\n",
    "N = 4000\n",
    "x = train_gpc[:N]\n",
    "y = y_train[:N]\n",
    "\n",
    "start = time.time()\n",
    "kernel = RationalQuadratic()\n",
    "gpc = GaussianProcessClassifier(kernel=kernel)\n",
    "gpc.fit(x, y)\n",
    "end = time.time()\n",
    "print(datetime.timedelta(seconds = int(end-start)))\n",
    "\n",
    "y_pred = gpc.predict(test_gpc)\n",
    "print(accuracy_score(y_test, y_pred))"
   ]
  },
  {
   "cell_type": "code",
   "execution_count": 16,
   "id": "9e76c5ed",
   "metadata": {},
   "outputs": [
    {
     "name": "stderr",
     "output_type": "stream",
     "text": [
      "C:\\Users\\pongp\\anaconda3\\lib\\site-packages\\sklearn\\gaussian_process\\kernels.py:430: ConvergenceWarning: The optimal value found for dimension 0 of parameter alpha is close to the specified upper bound 100000.0. Increasing the bound and calling fit again may find a better value.\n",
      "  warnings.warn(\n"
     ]
    },
    {
     "name": "stdout",
     "output_type": "stream",
     "text": [
      "1:13:16\n",
      "0.8063\n"
     ]
    }
   ],
   "source": [
    "train_gpc, test_gpc = pca(x_train, x_test, 0.99)\n",
    "\n",
    "N = 4000\n",
    "x = train_gpc[:N]\n",
    "y = y_train[:N]\n",
    "\n",
    "start = time.time()\n",
    "kernel = RationalQuadratic()\n",
    "gpc = GaussianProcessClassifier(kernel=kernel)\n",
    "gpc.fit(x, y)\n",
    "end = time.time()\n",
    "print(datetime.timedelta(seconds = int(end-start)))\n",
    "\n",
    "y_pred = gpc.predict(test_gpc)\n",
    "print(accuracy_score(y_test, y_pred))"
   ]
  },
  {
   "cell_type": "code",
   "execution_count": null,
   "id": "28287aa5",
   "metadata": {},
   "outputs": [],
   "source": [
    "# SIFT 0.5331\n",
    "# HOG 0.8376\n",
    "# LBP 0.7669\n",
    "# PCA 0.8063"
   ]
  }
 ],
 "metadata": {
  "kernelspec": {
   "display_name": "Python 3 (ipykernel)",
   "language": "python",
   "name": "python3"
  },
  "language_info": {
   "codemirror_mode": {
    "name": "ipython",
    "version": 3
   },
   "file_extension": ".py",
   "mimetype": "text/x-python",
   "name": "python",
   "nbconvert_exporter": "python",
   "pygments_lexer": "ipython3",
   "version": "3.9.15"
  }
 },
 "nbformat": 4,
 "nbformat_minor": 5
}
