{
 "cells": [
  {
   "cell_type": "code",
   "execution_count": 1,
   "id": "0ab0ea50",
   "metadata": {},
   "outputs": [],
   "source": [
    "import time\n",
    "import datetime\n",
    "import cv2\n",
    "import numpy as np\n",
    "import matplotlib.pyplot as plt\n",
    "from sklearn.metrics import classification_report\n",
    "from sklearn.model_selection import GridSearchCV\n",
    "from sklearn.gaussian_process import GaussianProcessClassifier\n",
    "from sklearn.gaussian_process.kernels import RBF, DotProduct, Matern, RationalQuadratic, WhiteKernel, CompoundKernel"
   ]
  },
  {
   "cell_type": "code",
   "execution_count": 2,
   "id": "8f8b2795",
   "metadata": {},
   "outputs": [],
   "source": [
    "def unpickle(file):\n",
    "    import pickle\n",
    "    with open(file, 'rb') as fo:\n",
    "        dict = pickle.load(fo, encoding='bytes')\n",
    "    return dict"
   ]
  },
  {
   "cell_type": "code",
   "execution_count": 3,
   "id": "406ede6f",
   "metadata": {},
   "outputs": [
    {
     "name": "stdout",
     "output_type": "stream",
     "text": [
      "dict_keys([b'batch_label', b'labels', b'data', b'filenames'])\n"
     ]
    }
   ],
   "source": [
    "data_batch_1 = unpickle('cifar-10-batches-py/data_batch_1')\n",
    "data_batch_2 = unpickle('cifar-10-batches-py/data_batch_2')\n",
    "data_batch_3 = unpickle('cifar-10-batches-py/data_batch_3')\n",
    "data_batch_4 = unpickle('cifar-10-batches-py/data_batch_4')\n",
    "data_batch_5 = unpickle('cifar-10-batches-py/data_batch_5')\n",
    "test_batch = unpickle('cifar-10-batches-py/test_batch')\n",
    "print(test_batch.keys())"
   ]
  },
  {
   "cell_type": "code",
   "execution_count": 4,
   "id": "95d931b6",
   "metadata": {},
   "outputs": [
    {
     "name": "stdout",
     "output_type": "stream",
     "text": [
      "(50000, 3072) (50000,)\n",
      "(10000, 3072) (10000,)\n"
     ]
    }
   ],
   "source": [
    "x_train_flatten = np.concatenate((data_batch_1[b'data'], data_batch_2[b'data'], data_batch_3[b'data'], data_batch_4[b'data'], data_batch_5[b'data']), axis=0)\n",
    "y_train = np.concatenate((data_batch_1[b'labels'], data_batch_2[b'labels'], data_batch_3[b'labels'], data_batch_4[b'labels'], data_batch_5[b'labels']), axis=0)\n",
    "x_test_flatten = test_batch[b'data']\n",
    "y_test = np.array(test_batch[b'labels'])\n",
    "print(x_train_flatten.shape, y_train.shape)\n",
    "print(x_test_flatten.shape, y_test.shape)"
   ]
  },
  {
   "cell_type": "code",
   "execution_count": 5,
   "id": "f35834bb",
   "metadata": {},
   "outputs": [
    {
     "name": "stdout",
     "output_type": "stream",
     "text": [
      "(50000, 32, 32, 3) (10000, 32, 32, 3)\n"
     ]
    }
   ],
   "source": [
    "x_train = x_train_flatten.reshape(len(x_train_flatten), 3, 32, 32).transpose(0, 2, 3, 1)\n",
    "x_test = x_test_flatten.reshape(len(x_test_flatten), 3, 32, 32).transpose(0, 2, 3, 1)\n",
    "print(x_train.shape, x_test.shape)"
   ]
  },
  {
   "cell_type": "code",
   "execution_count": 6,
   "id": "f5ded7ce",
   "metadata": {},
   "outputs": [],
   "source": [
    "x_train_gray = np.array([cv2.cvtColor(image, cv2.COLOR_BGR2GRAY) for image in x_train])\n",
    "x_test_gray = np.array([cv2.cvtColor(image, cv2.COLOR_BGR2GRAY) for image in x_test])\n",
    "x_train_gray_flatten = x_train_gray.reshape(x_train_gray.shape[0], -1)\n",
    "x_test_gray_flatten = x_test_gray.reshape(x_test_gray.shape[0], -1)"
   ]
  },
  {
   "cell_type": "code",
   "execution_count": 19,
   "id": "10e9ec86",
   "metadata": {},
   "outputs": [
    {
     "data": {
      "text/plain": [
       "array([ 59,  43,  50, ..., 140,  84,  72], dtype=uint8)"
      ]
     },
     "execution_count": 19,
     "metadata": {},
     "output_type": "execute_result"
    }
   ],
   "source": [
    "x_train_flatten[0]"
   ]
  },
  {
   "cell_type": "code",
   "execution_count": 14,
   "id": "78ef3fad",
   "metadata": {},
   "outputs": [
    {
     "data": {
      "text/plain": [
       "array([[ 62,  45,  47, ..., 128, 121, 120],\n",
       "       [ 20,   0,   7, ...,  82,  77,  82],\n",
       "       [ 23,   6,  24, ...,  78,  78,  68],\n",
       "       ...,\n",
       "       [152, 123, 125, ..., 117,  27,  32],\n",
       "       [131, 104, 115, ..., 136,  58,  51],\n",
       "       [139, 123, 130, ..., 174, 112,  90]], dtype=uint8)"
      ]
     },
     "execution_count": 14,
     "metadata": {},
     "output_type": "execute_result"
    }
   ],
   "source": [
    "x_train_gray[0]"
   ]
  },
  {
   "cell_type": "code",
   "execution_count": 8,
   "id": "80798d4a",
   "metadata": {},
   "outputs": [
    {
     "data": {
      "text/plain": [
       "array([[[ 59,  62,  63],\n",
       "        [ 43,  46,  45],\n",
       "        [ 50,  48,  43],\n",
       "        ...,\n",
       "        [158, 132, 108],\n",
       "        [152, 125, 102],\n",
       "        [148, 124, 103]],\n",
       "\n",
       "       [[ 16,  20,  20],\n",
       "        [  0,   0,   0],\n",
       "        [ 18,   8,   0],\n",
       "        ...,\n",
       "        [123,  88,  55],\n",
       "        [119,  83,  50],\n",
       "        [122,  87,  57]],\n",
       "\n",
       "       [[ 25,  24,  21],\n",
       "        [ 16,   7,   0],\n",
       "        [ 49,  27,   8],\n",
       "        ...,\n",
       "        [118,  84,  50],\n",
       "        [120,  84,  50],\n",
       "        [109,  73,  42]],\n",
       "\n",
       "       ...,\n",
       "\n",
       "       [[208, 170,  96],\n",
       "        [201, 153,  34],\n",
       "        [198, 161,  26],\n",
       "        ...,\n",
       "        [160, 133,  70],\n",
       "        [ 56,  31,   7],\n",
       "        [ 53,  34,  20]],\n",
       "\n",
       "       [[180, 139,  96],\n",
       "        [173, 123,  42],\n",
       "        [186, 144,  30],\n",
       "        ...,\n",
       "        [184, 148,  94],\n",
       "        [ 97,  62,  34],\n",
       "        [ 83,  53,  34]],\n",
       "\n",
       "       [[177, 144, 116],\n",
       "        [168, 129,  94],\n",
       "        [179, 142,  87],\n",
       "        ...,\n",
       "        [216, 184, 140],\n",
       "        [151, 118,  84],\n",
       "        [123,  92,  72]]], dtype=uint8)"
      ]
     },
     "execution_count": 8,
     "metadata": {},
     "output_type": "execute_result"
    }
   ],
   "source": [
    "x_train[0]"
   ]
  },
  {
   "cell_type": "code",
   "execution_count": 7,
   "id": "5bdd5585",
   "metadata": {},
   "outputs": [],
   "source": [
    "label = ['airplane', 'automobile', 'bird', 'cat', 'deer', 'dog', 'frog', 'horse', 'ship', 'truck']"
   ]
  },
  {
   "cell_type": "code",
   "execution_count": 8,
   "id": "a8b3f5f4",
   "metadata": {},
   "outputs": [],
   "source": [
    "def showimage(image, train):\n",
    "    if train == True:\n",
    "        plt.imshow(x_train[image])\n",
    "        plt.axis('off')\n",
    "        plt.show()\n",
    "        return (label[y_train[image]])\n",
    "    else:\n",
    "        plt.imshow(x_test[image])\n",
    "        plt.axis('off')\n",
    "        plt.show()\n",
    "        return (label[y_test[image]])"
   ]
  },
  {
   "cell_type": "code",
   "execution_count": 9,
   "id": "fe3ba478",
   "metadata": {},
   "outputs": [
    {
     "data": {
      "image/png": "[encoded data removed]",
      "text/plain": [
       "<Figure size 640x480 with 1 Axes>"
      ]
     },
     "metadata": {},
     "output_type": "display_data"
    },
    {
     "data": {
      "text/plain": [
       "'frog'"
      ]
     },
     "execution_count": 9,
     "metadata": {},
     "output_type": "execute_result"
    }
   ],
   "source": [
    "showimage(0, 1)"
   ]
  },
  {
   "cell_type": "markdown",
   "id": "644bff74",
   "metadata": {},
   "source": [
    "# Best Kernel"
   ]
  },
  {
   "cell_type": "code",
   "execution_count": null,
   "id": "3a136c8d",
   "metadata": {},
   "outputs": [],
   "source": [
    "x = x_train_flatten[:1000,:]\n",
    "y = y_train[:1000]\n",
    "grid = dict()\n",
    "grid['kernel'] = [1*RBF(), 1*DotProduct(), 1*Matern(),  1*RationalQuadratic(), 1*WhiteKernel()]\n",
    "model = GaussianProcessClassifier()"
   ]
  },
  {
   "cell_type": "code",
   "execution_count": null,
   "id": "22f12355",
   "metadata": {},
   "outputs": [],
   "source": [
    "start = time.time()\n",
    "search = GridSearchCV(model, grid, scoring='accuracy')\n",
    "results = search.fit(x, y)\n",
    "end = time.time()\n",
    "print(datetime.timedelta(seconds = int(end-start)))"
   ]
  },
  {
   "cell_type": "code",
   "execution_count": null,
   "id": "40753819",
   "metadata": {},
   "outputs": [],
   "source": [
    "print('Best Mean Accuracy', results.best_score_)\n",
    "print('Best Kernel', results.best_params_)\n",
    "means = results.cv_results_['mean_test_score']\n",
    "params = results.cv_results_['params']\n",
    "for mean, param in zip(means, params):\n",
    "    print(round(mean, 2) , param)"
   ]
  },
  {
   "cell_type": "markdown",
   "id": "ac7714dc",
   "metadata": {},
   "source": [
    "# Normal Classification"
   ]
  },
  {
   "cell_type": "code",
   "execution_count": 10,
   "id": "0f5d3967",
   "metadata": {},
   "outputs": [
    {
     "name": "stderr",
     "output_type": "stream",
     "text": [
      "C:\\Users\\pongp\\anaconda3\\lib\\site-packages\\sklearn\\gaussian_process\\kernels.py:430: ConvergenceWarning: The optimal value found for dimension 0 of parameter k2__alpha is close to the specified upper bound 100000.0. Increasing the bound and calling fit again may find a better value.\n",
      "  warnings.warn(\n"
     ]
    },
    {
     "name": "stdout",
     "output_type": "stream",
     "text": [
      "0:09:01\n"
     ]
    }
   ],
   "source": [
    "start = time.time()\n",
    "kernel = 1 * RationalQuadratic(alpha=1, length_scale=1)\n",
    "gpc = GaussianProcessClassifier(kernel=kernel).fit(x_train_flatten[:1000,:], y_train[:1000])\n",
    "end = time.time()\n",
    "print(datetime.timedelta(seconds = int(end-start)))"
   ]
  },
  {
   "cell_type": "code",
   "execution_count": 11,
   "id": "09dc539a",
   "metadata": {},
   "outputs": [
    {
     "name": "stdout",
     "output_type": "stream",
     "text": [
      "              precision    recall  f1-score   support\n",
      "\n",
      "           0       0.45      0.39      0.42      1000\n",
      "           1       0.39      0.57      0.46      1000\n",
      "           2       0.24      0.31      0.27      1000\n",
      "           3       0.29      0.02      0.03      1000\n",
      "           4       0.35      0.29      0.32      1000\n",
      "           5       0.32      0.27      0.30      1000\n",
      "           6       0.37      0.49      0.42      1000\n",
      "           7       0.37      0.38      0.37      1000\n",
      "           8       0.40      0.54      0.46      1000\n",
      "           9       0.41      0.40      0.41      1000\n",
      "\n",
      "    accuracy                           0.37     10000\n",
      "   macro avg       0.36      0.37      0.35     10000\n",
      "weighted avg       0.36      0.37      0.35     10000\n",
      "\n"
     ]
    }
   ],
   "source": [
    "prob = gpc.predict_proba(x_test_flatten)\n",
    "predict = np.argmax(prob, axis=1)\n",
    "print(classification_report(y_test, predict))"
   ]
  },
  {
   "cell_type": "code",
   "execution_count": 12,
   "id": "cca4815c",
   "metadata": {},
   "outputs": [
    {
     "data": {
      "text/plain": [
       "CompoundKernel(3.28, -2.06, 9.14, 2.93, 11.5, 8.4, 3.92, -2.32, 9.16, 7.03, -8.12, 10.8, 3.3, -2.98, 9.02, 2.39, -0.257, 8.74, 3.93, -2.31, 9.43, 2.75, 0.0137, 8.68, 3.47, -1.49, 8.94, 2, 11.5, 8.58)"
      ]
     },
     "execution_count": 12,
     "metadata": {},
     "output_type": "execute_result"
    }
   ],
   "source": [
    "gpc.kernel_"
   ]
  },
  {
   "cell_type": "code",
   "execution_count": 13,
   "id": "90d9cd45",
   "metadata": {},
   "outputs": [
    {
     "data": {
      "text/plain": [
       "array([ 3.28037893, -2.0639786 ,  9.13825385,  2.93473077, 11.51292546,\n",
       "        8.39920253,  3.9195868 , -2.31805454,  9.15544287,  7.02893548,\n",
       "       -8.11581508, 10.77426616,  3.30331538, -2.975671  ,  9.02454623,\n",
       "        2.39277801, -0.25708445,  8.74360768,  3.93021325, -2.31077649,\n",
       "        9.42923885,  2.75020672,  0.01365531,  8.67602347,  3.46578067,\n",
       "       -1.49287326,  8.93708634,  1.99726036, 11.51292546,  8.57935645])"
      ]
     },
     "execution_count": 13,
     "metadata": {},
     "output_type": "execute_result"
    }
   ],
   "source": [
    "gpc.kernel_.theta"
   ]
  },
  {
   "cell_type": "code",
   "execution_count": 14,
   "id": "985209d6",
   "metadata": {},
   "outputs": [
    {
     "data": {
      "text/plain": [
       "{'kernels': [5.16**2 * RationalQuadratic(alpha=0.127, length_scale=9.3e+03),\n",
       "  4.34**2 * RationalQuadratic(alpha=1e+05, length_scale=4.44e+03),\n",
       "  7.1**2 * RationalQuadratic(alpha=0.0985, length_scale=9.47e+03),\n",
       "  33.6**2 * RationalQuadratic(alpha=0.000299, length_scale=4.78e+04),\n",
       "  5.22**2 * RationalQuadratic(alpha=0.051, length_scale=8.3e+03),\n",
       "  3.31**2 * RationalQuadratic(alpha=0.773, length_scale=6.27e+03),\n",
       "  7.14**2 * RationalQuadratic(alpha=0.0992, length_scale=1.24e+04),\n",
       "  3.96**2 * RationalQuadratic(alpha=1.01, length_scale=5.86e+03),\n",
       "  5.66**2 * RationalQuadratic(alpha=0.225, length_scale=7.61e+03),\n",
       "  2.71**2 * RationalQuadratic(alpha=1e+05, length_scale=5.32e+03)]}"
      ]
     },
     "execution_count": 14,
     "metadata": {},
     "output_type": "execute_result"
    }
   ],
   "source": [
    "gpc.kernel_.get_params()"
   ]
  },
  {
   "cell_type": "code",
   "execution_count": 15,
   "id": "38e1ab8c",
   "metadata": {},
   "outputs": [
    {
     "data": {
      "text/plain": [
       "-286.9301423430601"
      ]
     },
     "execution_count": 15,
     "metadata": {},
     "output_type": "execute_result"
    }
   ],
   "source": [
    "gpc.log_marginal_likelihood_value_"
   ]
  },
  {
   "cell_type": "markdown",
   "id": "f94136a3",
   "metadata": {},
   "source": [
    "# SIFT"
   ]
  },
  {
   "cell_type": "code",
   "execution_count": 11,
   "id": "942ca397",
   "metadata": {},
   "outputs": [
    {
     "data": {
      "text/plain": [
       "(10000, 32, 32, 3)"
      ]
     },
     "execution_count": 11,
     "metadata": {},
     "output_type": "execute_result"
    }
   ],
   "source": [
    "x_test.shape"
   ]
  },
  {
   "cell_type": "code",
   "execution_count": 17,
   "id": "538390dd",
   "metadata": {},
   "outputs": [],
   "source": [
    "def CalcFeatures(img, th):\n",
    "    sift = cv2.SIFT_create(th)\n",
    "    kp, des = sift.detectAndCompute(img, None)\n",
    "    return des"
   ]
  },
  {
   "cell_type": "code",
   "execution_count": 18,
   "id": "2e56f1f4",
   "metadata": {},
   "outputs": [],
   "source": [
    "thresh = 100"
   ]
  },
  {
   "cell_type": "code",
   "execution_count": 19,
   "id": "bfc91a9b",
   "metadata": {},
   "outputs": [],
   "source": [
    "features = []\n",
    "for file in x_train:\n",
    "    img_des = CalcFeatures(file, thresh)\n",
    "    if img_des is not None:\n",
    "        features.append(img_des)\n",
    "features = np.vstack(features)"
   ]
  },
  {
   "cell_type": "code",
   "execution_count": 26,
   "id": "9ca2ec8c",
   "metadata": {},
   "outputs": [],
   "source": [
    "k = 150\n",
    "criteria = (cv2.TERM_CRITERIA_EPS + cv2.TERM_CRITERIA_MAX_ITER, 10, 0.1)\n",
    "flags = cv2.KMEANS_RANDOM_CENTERS\n",
    "compactness, labels, centres = cv2.kmeans(features, k, None, criteria, 10, flags)"
   ]
  },
  {
   "cell_type": "code",
   "execution_count": 32,
   "id": "04041ff0",
   "metadata": {},
   "outputs": [
    {
     "data": {
      "text/plain": [
       "(150, 128)"
      ]
     },
     "execution_count": 32,
     "metadata": {},
     "output_type": "execute_result"
    }
   ],
   "source": [
    "centres.shape"
   ]
  },
  {
   "cell_type": "code",
   "execution_count": 16,
   "id": "0c738b8f",
   "metadata": {},
   "outputs": [],
   "source": [
    "sift = cv2.SIFT_create(5)"
   ]
  },
  {
   "cell_type": "code",
   "execution_count": 17,
   "id": "8f52e8ce",
   "metadata": {},
   "outputs": [],
   "source": [
    "x_train_keypoints = []\n",
    "x_train_descriptors = []\n",
    "for i in x_train:\n",
    "    image = cv2.cvtColor(i, cv2.COLOR_BGR2GRAY)\n",
    "    keypoints, descriptors = sift.detectAndCompute(image, None)\n",
    "    x_train_keypoints.append(keypoints)\n",
    "    x_train_descriptors.append(descriptors)"
   ]
  },
  {
   "cell_type": "code",
   "execution_count": 18,
   "id": "6d1f85b9",
   "metadata": {},
   "outputs": [],
   "source": [
    "x_test_keypoints = []\n",
    "x_test_descriptors = []\n",
    "for i in x_test:\n",
    "    image = cv2.cvtColor(i, cv2.COLOR_BGR2GRAY)\n",
    "    keypoints, descriptors = sift.detectAndCompute(image, None)\n",
    "    x_test_keypoints.append(keypoints)\n",
    "    x_test_descriptors.append(descriptors)"
   ]
  },
  {
   "cell_type": "code",
   "execution_count": 19,
   "id": "5ecec17d",
   "metadata": {},
   "outputs": [
    {
     "name": "stdout",
     "output_type": "stream",
     "text": [
      "8\n"
     ]
    }
   ],
   "source": [
    "max_descriptors = 0\n",
    "for i in x_train_descriptors:\n",
    "    if i is not None:\n",
    "        if len(i)>max_descriptors:\n",
    "            max_descriptors = len(i)\n",
    "for i in x_test_descriptors:\n",
    "    if i is not None:\n",
    "        if len(i)>max_descriptors:\n",
    "            max_descriptors = len(i)\n",
    "print(max_descriptors)"
   ]
  },
  {
   "cell_type": "code",
   "execution_count": 20,
   "id": "ec87c238",
   "metadata": {},
   "outputs": [
    {
     "name": "stdout",
     "output_type": "stream",
     "text": [
      "(50000, 1024)\n"
     ]
    }
   ],
   "source": [
    "x_train_sift = []\n",
    "for i in x_train_descriptors:\n",
    "    if i is not None:\n",
    "        flatten = i.flatten()\n",
    "        zero_array = np.zeros(1024-len(flatten))\n",
    "        array = np.append(flatten, zero_array)\n",
    "        x_train_sift.append(array)\n",
    "    else:\n",
    "        x_train_sift.append(np.zeros(1024))\n",
    "x_train_sift = np.array(x_train_sift)\n",
    "print(x_train_sift.shape)"
   ]
  },
  {
   "cell_type": "code",
   "execution_count": 21,
   "id": "49f66f7d",
   "metadata": {},
   "outputs": [
    {
     "name": "stdout",
     "output_type": "stream",
     "text": [
      "(10000, 1024)\n"
     ]
    }
   ],
   "source": [
    "x_test_sift = []\n",
    "for i in x_test_descriptors:\n",
    "    if i is not None:\n",
    "        flatten = i.flatten()\n",
    "        zero_array = np.zeros(1024-len(flatten))\n",
    "        array = np.append(flatten, zero_array)\n",
    "        x_test_sift.append(array)\n",
    "    else:\n",
    "        x_test_sift.append(np.zeros(1024))\n",
    "x_test_sift = np.array(x_test_sift)\n",
    "print(x_test_sift.shape)"
   ]
  },
  {
   "cell_type": "code",
   "execution_count": 22,
   "id": "7e37d741",
   "metadata": {},
   "outputs": [
    {
     "name": "stderr",
     "output_type": "stream",
     "text": [
      "C:\\Users\\pongp\\anaconda3\\lib\\site-packages\\sklearn\\gaussian_process\\kernels.py:430: ConvergenceWarning: The optimal value found for dimension 0 of parameter k2__alpha is close to the specified upper bound 100000.0. Increasing the bound and calling fit again may find a better value.\n",
      "  warnings.warn(\n",
      "C:\\Users\\pongp\\anaconda3\\lib\\site-packages\\sklearn\\gaussian_process\\kernels.py:420: ConvergenceWarning: The optimal value found for dimension 0 of parameter k2__alpha is close to the specified lower bound 1e-05. Decreasing the bound and calling fit again may find a better value.\n",
      "  warnings.warn(\n"
     ]
    },
    {
     "name": "stdout",
     "output_type": "stream",
     "text": [
      "0:05:09\n"
     ]
    }
   ],
   "source": [
    "start = time.time()\n",
    "kernel = 1 * RationalQuadratic(alpha=1, length_scale=1)\n",
    "gpc = GaussianProcessClassifier(kernel=kernel).fit(x_train_sift[:1000,:], y_train[:1000])\n",
    "end = time.time()\n",
    "print(datetime.timedelta(seconds = int(end-start)))"
   ]
  },
  {
   "cell_type": "code",
   "execution_count": 23,
   "id": "c9c8d97e",
   "metadata": {},
   "outputs": [
    {
     "name": "stdout",
     "output_type": "stream",
     "text": [
      "0.1746\n"
     ]
    }
   ],
   "source": [
    "print(gpc.score(x_test_sift, y_test))"
   ]
  },
  {
   "cell_type": "code",
   "execution_count": null,
   "id": "daf7e767",
   "metadata": {},
   "outputs": [],
   "source": []
  }
 ],
 "metadata": {
  "kernelspec": {
   "display_name": "Python 3 (ipykernel)",
   "language": "python",
   "name": "python3"
  },
  "language_info": {
   "codemirror_mode": {
    "name": "ipython",
    "version": 3
   },
   "file_extension": ".py",
   "mimetype": "text/x-python",
   "name": "python",
   "nbconvert_exporter": "python",
   "pygments_lexer": "ipython3",
   "version": "3.9.15"
  }
 },
 "nbformat": 4,
 "nbformat_minor": 5
}
